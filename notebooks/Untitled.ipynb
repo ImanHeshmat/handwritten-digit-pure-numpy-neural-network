{
 "cells": [
  {
   "cell_type": "code",
   "execution_count": 1,
   "id": "af6e39b0-8dbf-45b5-b7cc-36fba9c97030",
   "metadata": {},
   "outputs": [
    {
     "name": "stderr",
     "output_type": "stream",
     "text": [
      "Matplotlib is building the font cache; this may take a moment.\n"
     ]
    }
   ],
   "source": [
    "import numpy as np\n",
    "import pandas as pd\n",
    "from matplotlib import pyplot as plt"
   ]
  },
  {
   "cell_type": "markdown",
   "id": "b7175c18-d58b-4b47-8fef-e654b74f732f",
   "metadata": {},
   "source": [
    "### Load train dataset"
   ]
  },
  {
   "cell_type": "code",
   "execution_count": 24,
   "id": "b36692ef-3525-4938-9bd6-5bd5ea0068be",
   "metadata": {},
   "outputs": [],
   "source": [
    "data = pd.read_csv(\"../data/train.csv\")"
   ]
  },
  {
   "cell_type": "code",
   "execution_count": 25,
   "id": "d88ed3fb-70b4-4e6c-af1f-37a817e120ba",
   "metadata": {},
   "outputs": [],
   "source": [
    "data = np.array(data)\n",
    "m, n = data.shape\n",
    "np.random.shuffle(data) # shuffle before splitting into training and dev sets"
   ]
  },
  {
   "cell_type": "markdown",
   "id": "becb1378-5581-4f10-8765-a34f6faaa14b",
   "metadata": {},
   "source": [
    "#### Dev set"
   ]
  },
  {
   "cell_type": "code",
   "execution_count": 26,
   "id": "960ba75a-c128-450a-a615-3d035d431214",
   "metadata": {},
   "outputs": [],
   "source": [
    "data_dev = data[0:1000].T # T for transposing as each column is number features\n",
    "Y_dev = data_dev[0]\n",
    "X_dev = data_dev[1:n]\n",
    "X_dev = X_dev / 255. # scaling X between 0 and 1"
   ]
  },
  {
   "cell_type": "markdown",
   "id": "bc389356-cd23-4878-ae68-b96c077540e2",
   "metadata": {},
   "source": [
    "#### Training set"
   ]
  },
  {
   "cell_type": "code",
   "execution_count": null,
   "id": "b0bd60ca-bf6f-4742-8080-b26061207b72",
   "metadata": {},
   "outputs": [],
   "source": [
    "data_train = data[1000:m].T\n",
    "Y_train = data_train[0]\n",
    "X_train = data_train[1:n]\n",
    "X_train = X_train / 255."
   ]
  }
 ],
 "metadata": {
  "kernelspec": {
   "display_name": "Python 3 (ipykernel)",
   "language": "python",
   "name": "python3"
  },
  "language_info": {
   "codemirror_mode": {
    "name": "ipython",
    "version": 3
   },
   "file_extension": ".py",
   "mimetype": "text/x-python",
   "name": "python",
   "nbconvert_exporter": "python",
   "pygments_lexer": "ipython3",
   "version": "3.12.7"
  }
 },
 "nbformat": 4,
 "nbformat_minor": 5
}
