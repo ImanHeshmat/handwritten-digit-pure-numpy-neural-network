{
 "cells": [
  {
   "cell_type": "code",
   "execution_count": 34,
   "id": "af6e39b0-8dbf-45b5-b7cc-36fba9c97030",
   "metadata": {},
   "outputs": [],
   "source": [
    "import numpy as np\n",
    "import pandas as pd\n",
    "from matplotlib import pyplot as plt"
   ]
  },
  {
   "cell_type": "markdown",
   "id": "b7175c18-d58b-4b47-8fef-e654b74f732f",
   "metadata": {},
   "source": [
    "### Load train dataset"
   ]
  },
  {
   "cell_type": "code",
   "execution_count": 24,
   "id": "b36692ef-3525-4938-9bd6-5bd5ea0068be",
   "metadata": {},
   "outputs": [],
   "source": [
    "data = pd.read_csv(\"../data/train.csv\")"
   ]
  },
  {
   "cell_type": "code",
   "execution_count": 25,
   "id": "d88ed3fb-70b4-4e6c-af1f-37a817e120ba",
   "metadata": {},
   "outputs": [],
   "source": [
    "data = np.array(data)\n",
    "m, n = data.shape\n",
    "np.random.shuffle(data) # shuffle before splitting into training and dev sets"
   ]
  },
  {
   "cell_type": "markdown",
   "id": "becb1378-5581-4f10-8765-a34f6faaa14b",
   "metadata": {},
   "source": [
    "#### Dev set"
   ]
  },
  {
   "cell_type": "code",
   "execution_count": 26,
   "id": "960ba75a-c128-450a-a615-3d035d431214",
   "metadata": {},
   "outputs": [],
   "source": [
    "data_dev = data[0:1000].T # T for transposing as each column is number features\n",
    "Y_dev = data_dev[0]\n",
    "X_dev = data_dev[1:n]\n",
    "X_dev = X_dev / 255. # scaling X between 0 and 1"
   ]
  },
  {
   "cell_type": "markdown",
   "id": "bc389356-cd23-4878-ae68-b96c077540e2",
   "metadata": {},
   "source": [
    "#### Training set"
   ]
  },
  {
   "cell_type": "code",
   "execution_count": 27,
   "id": "b0bd60ca-bf6f-4742-8080-b26061207b72",
   "metadata": {},
   "outputs": [],
   "source": [
    "data_train = data[1000:m].T\n",
    "Y_train = data_train[0]\n",
    "X_train = data_train[1:n]\n",
    "X_train = X_train / 255.\n",
    "_, m_train = X_train.shape"
   ]
  },
  {
   "cell_type": "code",
   "execution_count": 35,
   "id": "29427db3-f948-4388-a040-75c0840d0d24",
   "metadata": {},
   "outputs": [
    {
     "data": {
      "text/plain": [
       "array([0, 8, 7, ..., 4, 0, 5])"
      ]
     },
     "execution_count": 35,
     "metadata": {},
     "output_type": "execute_result"
    }
   ],
   "source": [
    "Y_train"
   ]
  },
  {
   "cell_type": "markdown",
   "id": "13b98704-988e-4fdd-bced-c59ea4527a73",
   "metadata": {},
   "source": [
    "### Define our Neural Network"
   ]
  },
  {
   "cell_type": "markdown",
   "id": "fe3c814a-e5ed-49eb-aacc-9b0c57970e61",
   "metadata": {},
   "source": [
    "Our NN will have a simple two-layer architecture. Input layer a<sup>[0]</sup> will have 784 units corresponding to the 784 pixels in each 28x28 input image. A hidden layer  𝑎<sup>[1]</sup>\n",
    "  will have 10 units with ReLU activation, and finally our output layer  𝑎<sup>[2]</sup>\n",
    "  will have 10 units corresponding to the ten digit classes with softmax activation."
   ]
  },
  {
   "cell_type": "markdown",
   "id": "fa26fb9d-e58d-4761-901d-ef756b6894d7",
   "metadata": {},
   "source": [
    "**Forward propagation**\n",
    "\n",
    "$Z^{[1]} = W^{[1]}X + b^{[1]}$\n",
    "\n",
    "$A^{[1]} = g_{ReLU}(Z^{[1]})$\n",
    "\n",
    "$Z^{[2]} = W^{[2]}A^{[1]} + b^{[2]}$\n",
    "\n",
    "$A^{[2]} = g_{softmax}(Z^{[2]})$\n",
    "\n",
    "**Backward propagation**\n",
    "\n",
    "$dZ^{[2]} = A^{[2]} - Y$\n",
    "\n",
    "$dW^{[2]} = \\frac{1}{m} dZ^{[2]} A^{[1]T}$\n",
    "\n",
    "$dB^{[2]} = \\frac{1}{m} \\Sigma dZ^{[2]}$\n",
    "\n",
    "$dZ^{[1]} = W^{[2]T} dZ^{[2]} \\cdot* g^{[1]'}(z^{[1]})$\n",
    "\n",
    "$dW^{[1]} = \\frac{1}{m} dZ^{[1]} A^{[0]T}$\n",
    "\n",
    "$dB^{[1]} = \\frac{1}{m} \\Sigma dZ^{[1]}$\n",
    "\n",
    "**Parameter updates**\n",
    "\n",
    "$W^{[2]} := W^{[2]} - \\alpha dW^{[2]}$\n",
    "\n",
    "$b^{[2]} := b^{[2]} - \\alpha db^{[2]}$\n",
    "\n",
    "$W^{[1]} := W^{[1]} - \\alpha dW^{[1]}$\n",
    "\n",
    "$b^{[1]} := b^{[1]} - \\alpha db^{[1]}$"
   ]
  },
  {
   "cell_type": "markdown",
   "id": "a9710b28-14e9-4ef4-869e-e2764aa95a9b",
   "metadata": {},
   "source": [
    "### Vars and shapes\n",
    "\n",
    "**Forward prop**\n",
    "\n",
    "- $A^{[0]} = X$: 784 x m\n",
    "\n",
    "- $Z^{[1]} \\sim A^{[1]}$: 10 x m\n",
    "\n",
    "- $W^{[1]}$: 10 x 784 (as $W^{[1]}A^{[0]} \\sim Z^{[1]}$)\n",
    "\n",
    "- $B^{[1]}$: 10 x 1\n",
    "\n",
    "- $Z^{[2]} \\sim A^{[2]}$: 10 x m\n",
    "\n",
    "- $W^{[2]}$: 10 x 10 (as $W^{[2]}A^{[1]} \\sim Z^{[2]}$)\n",
    "\n",
    "- $B^{[2]}$: 10 x 1\n",
    "\n",
    "**Backprop**\n",
    "\n",
    "- $dZ^{[2]}$: 10 x m ($A^{[2]}$)\n",
    "\n",
    "- $dW^{[2]}$: 10 x 10\n",
    "\n",
    "- $dB^{[2]}$: 10 x 1\n",
    "\n",
    "- $dZ^{[1]}$: 10 x m ($A^{[1]}$)\n",
    "\n",
    "- $dW^{[1]}$: 10 x 784\n",
    "\n",
    "- $dB^{[1]}$: 10 x 1"
   ]
  },
  {
   "cell_type": "code",
   "execution_count": 38,
   "id": "41b546db-083b-41c2-910f-c8bfe9c1d774",
   "metadata": {},
   "outputs": [],
   "source": [
    "def ini_params():\n",
    "    W1 = np.random.rand(10, 784) - 0.5\n",
    "    b1 = np.random.rand(10, 1) - 0.5\n",
    "    W2 = np.random.rand(10, 10) - 0.5\n",
    "    b2 = np.random.rand(10, 1) - 0.5\n",
    "    return W1, b1, W2, b2"
   ]
  },
  {
   "cell_type": "code",
   "execution_count": 39,
   "id": "2d6ba4eb-831d-46f7-ab1a-b5f39b8e8fe0",
   "metadata": {},
   "outputs": [],
   "source": [
    "def ReLU(Z):\n",
    "    return np.maximum(Z, 0)"
   ]
  },
  {
   "cell_type": "code",
   "execution_count": 40,
   "id": "64eb36de-0644-4eff-88c4-2e0735b85eaf",
   "metadata": {},
   "outputs": [],
   "source": [
    "def softmax(Z):\n",
    "    A = np.exp(Z) / sum(np.exp(Z))\n",
    "    return A"
   ]
  },
  {
   "cell_type": "code",
   "execution_count": null,
   "id": "eef73f57-3895-4ed8-9f3d-1e12b5aaee05",
   "metadata": {},
   "outputs": [],
   "source": [
    "def forward_prop(W1, b1, W2, b2, X):\n",
    "    Z1 = W1.dot(X) + b1\n",
    "    A1 = ReLU(Z1)\n",
    "    Z2 = W2.dot(A1) + b2\n",
    "    A2 = softmax(Z2)\n",
    "    return Z1, A1, Z2, A2"
   ]
  }
 ],
 "metadata": {
  "kernelspec": {
   "display_name": "Python 3 (ipykernel)",
   "language": "python",
   "name": "python3"
  },
  "language_info": {
   "codemirror_mode": {
    "name": "ipython",
    "version": 3
   },
   "file_extension": ".py",
   "mimetype": "text/x-python",
   "name": "python",
   "nbconvert_exporter": "python",
   "pygments_lexer": "ipython3",
   "version": "3.12.7"
  }
 },
 "nbformat": 4,
 "nbformat_minor": 5
}
