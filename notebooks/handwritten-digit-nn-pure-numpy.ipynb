{
 "cells": [
  {
   "cell_type": "code",
   "execution_count": 1,
   "id": "af6e39b0-8dbf-45b5-b7cc-36fba9c97030",
   "metadata": {},
   "outputs": [],
   "source": [
    "import numpy as np\n",
    "import pandas as pd\n",
    "from matplotlib import pyplot as plt\n",
    "import time"
   ]
  },
  {
   "cell_type": "markdown",
   "id": "b7175c18-d58b-4b47-8fef-e654b74f732f",
   "metadata": {},
   "source": [
    "### Load train dataset"
   ]
  },
  {
   "cell_type": "code",
   "execution_count": 2,
   "id": "b36692ef-3525-4938-9bd6-5bd5ea0068be",
   "metadata": {},
   "outputs": [],
   "source": [
    "data = pd.read_csv(\"../data/train.csv\")"
   ]
  },
  {
   "cell_type": "code",
   "execution_count": 3,
   "id": "48452b7e-f031-43b1-bb69-91935108ed9d",
   "metadata": {},
   "outputs": [
    {
     "data": {
      "text/html": [
       "<div>\n",
       "<style scoped>\n",
       "    .dataframe tbody tr th:only-of-type {\n",
       "        vertical-align: middle;\n",
       "    }\n",
       "\n",
       "    .dataframe tbody tr th {\n",
       "        vertical-align: top;\n",
       "    }\n",
       "\n",
       "    .dataframe thead th {\n",
       "        text-align: right;\n",
       "    }\n",
       "</style>\n",
       "<table border=\"1\" class=\"dataframe\">\n",
       "  <thead>\n",
       "    <tr style=\"text-align: right;\">\n",
       "      <th></th>\n",
       "      <th>label</th>\n",
       "      <th>pixel0</th>\n",
       "      <th>pixel1</th>\n",
       "      <th>pixel2</th>\n",
       "      <th>pixel3</th>\n",
       "      <th>pixel4</th>\n",
       "      <th>pixel5</th>\n",
       "      <th>pixel6</th>\n",
       "      <th>pixel7</th>\n",
       "      <th>pixel8</th>\n",
       "      <th>...</th>\n",
       "      <th>pixel774</th>\n",
       "      <th>pixel775</th>\n",
       "      <th>pixel776</th>\n",
       "      <th>pixel777</th>\n",
       "      <th>pixel778</th>\n",
       "      <th>pixel779</th>\n",
       "      <th>pixel780</th>\n",
       "      <th>pixel781</th>\n",
       "      <th>pixel782</th>\n",
       "      <th>pixel783</th>\n",
       "    </tr>\n",
       "  </thead>\n",
       "  <tbody>\n",
       "    <tr>\n",
       "      <th>0</th>\n",
       "      <td>1</td>\n",
       "      <td>0</td>\n",
       "      <td>0</td>\n",
       "      <td>0</td>\n",
       "      <td>0</td>\n",
       "      <td>0</td>\n",
       "      <td>0</td>\n",
       "      <td>0</td>\n",
       "      <td>0</td>\n",
       "      <td>0</td>\n",
       "      <td>...</td>\n",
       "      <td>0</td>\n",
       "      <td>0</td>\n",
       "      <td>0</td>\n",
       "      <td>0</td>\n",
       "      <td>0</td>\n",
       "      <td>0</td>\n",
       "      <td>0</td>\n",
       "      <td>0</td>\n",
       "      <td>0</td>\n",
       "      <td>0</td>\n",
       "    </tr>\n",
       "    <tr>\n",
       "      <th>1</th>\n",
       "      <td>0</td>\n",
       "      <td>0</td>\n",
       "      <td>0</td>\n",
       "      <td>0</td>\n",
       "      <td>0</td>\n",
       "      <td>0</td>\n",
       "      <td>0</td>\n",
       "      <td>0</td>\n",
       "      <td>0</td>\n",
       "      <td>0</td>\n",
       "      <td>...</td>\n",
       "      <td>0</td>\n",
       "      <td>0</td>\n",
       "      <td>0</td>\n",
       "      <td>0</td>\n",
       "      <td>0</td>\n",
       "      <td>0</td>\n",
       "      <td>0</td>\n",
       "      <td>0</td>\n",
       "      <td>0</td>\n",
       "      <td>0</td>\n",
       "    </tr>\n",
       "    <tr>\n",
       "      <th>2</th>\n",
       "      <td>1</td>\n",
       "      <td>0</td>\n",
       "      <td>0</td>\n",
       "      <td>0</td>\n",
       "      <td>0</td>\n",
       "      <td>0</td>\n",
       "      <td>0</td>\n",
       "      <td>0</td>\n",
       "      <td>0</td>\n",
       "      <td>0</td>\n",
       "      <td>...</td>\n",
       "      <td>0</td>\n",
       "      <td>0</td>\n",
       "      <td>0</td>\n",
       "      <td>0</td>\n",
       "      <td>0</td>\n",
       "      <td>0</td>\n",
       "      <td>0</td>\n",
       "      <td>0</td>\n",
       "      <td>0</td>\n",
       "      <td>0</td>\n",
       "    </tr>\n",
       "    <tr>\n",
       "      <th>3</th>\n",
       "      <td>4</td>\n",
       "      <td>0</td>\n",
       "      <td>0</td>\n",
       "      <td>0</td>\n",
       "      <td>0</td>\n",
       "      <td>0</td>\n",
       "      <td>0</td>\n",
       "      <td>0</td>\n",
       "      <td>0</td>\n",
       "      <td>0</td>\n",
       "      <td>...</td>\n",
       "      <td>0</td>\n",
       "      <td>0</td>\n",
       "      <td>0</td>\n",
       "      <td>0</td>\n",
       "      <td>0</td>\n",
       "      <td>0</td>\n",
       "      <td>0</td>\n",
       "      <td>0</td>\n",
       "      <td>0</td>\n",
       "      <td>0</td>\n",
       "    </tr>\n",
       "    <tr>\n",
       "      <th>4</th>\n",
       "      <td>0</td>\n",
       "      <td>0</td>\n",
       "      <td>0</td>\n",
       "      <td>0</td>\n",
       "      <td>0</td>\n",
       "      <td>0</td>\n",
       "      <td>0</td>\n",
       "      <td>0</td>\n",
       "      <td>0</td>\n",
       "      <td>0</td>\n",
       "      <td>...</td>\n",
       "      <td>0</td>\n",
       "      <td>0</td>\n",
       "      <td>0</td>\n",
       "      <td>0</td>\n",
       "      <td>0</td>\n",
       "      <td>0</td>\n",
       "      <td>0</td>\n",
       "      <td>0</td>\n",
       "      <td>0</td>\n",
       "      <td>0</td>\n",
       "    </tr>\n",
       "  </tbody>\n",
       "</table>\n",
       "<p>5 rows × 785 columns</p>\n",
       "</div>"
      ],
      "text/plain": [
       "   label  pixel0  pixel1  pixel2  pixel3  pixel4  pixel5  pixel6  pixel7  \\\n",
       "0      1       0       0       0       0       0       0       0       0   \n",
       "1      0       0       0       0       0       0       0       0       0   \n",
       "2      1       0       0       0       0       0       0       0       0   \n",
       "3      4       0       0       0       0       0       0       0       0   \n",
       "4      0       0       0       0       0       0       0       0       0   \n",
       "\n",
       "   pixel8  ...  pixel774  pixel775  pixel776  pixel777  pixel778  pixel779  \\\n",
       "0       0  ...         0         0         0         0         0         0   \n",
       "1       0  ...         0         0         0         0         0         0   \n",
       "2       0  ...         0         0         0         0         0         0   \n",
       "3       0  ...         0         0         0         0         0         0   \n",
       "4       0  ...         0         0         0         0         0         0   \n",
       "\n",
       "   pixel780  pixel781  pixel782  pixel783  \n",
       "0         0         0         0         0  \n",
       "1         0         0         0         0  \n",
       "2         0         0         0         0  \n",
       "3         0         0         0         0  \n",
       "4         0         0         0         0  \n",
       "\n",
       "[5 rows x 785 columns]"
      ]
     },
     "execution_count": 3,
     "metadata": {},
     "output_type": "execute_result"
    }
   ],
   "source": [
    "data.head()"
   ]
  },
  {
   "cell_type": "code",
   "execution_count": 4,
   "id": "d88ed3fb-70b4-4e6c-af1f-37a817e120ba",
   "metadata": {},
   "outputs": [],
   "source": [
    "data = np.array(data)\n",
    "m, n = data.shape\n",
    "np.random.shuffle(data) # shuffle before splitting into training and dev sets"
   ]
  },
  {
   "cell_type": "code",
   "execution_count": 5,
   "id": "9b902757-42a8-4d13-be61-16346c1574fa",
   "metadata": {},
   "outputs": [
    {
     "data": {
      "text/plain": [
       "array([[9, 0, 0, ..., 0, 0, 0],\n",
       "       [2, 0, 0, ..., 0, 0, 0],\n",
       "       [8, 0, 0, ..., 0, 0, 0],\n",
       "       ...,\n",
       "       [9, 0, 0, ..., 0, 0, 0],\n",
       "       [7, 0, 0, ..., 0, 0, 0],\n",
       "       [4, 0, 0, ..., 0, 0, 0]], shape=(42000, 785))"
      ]
     },
     "execution_count": 5,
     "metadata": {},
     "output_type": "execute_result"
    }
   ],
   "source": [
    "data"
   ]
  },
  {
   "cell_type": "markdown",
   "id": "becb1378-5581-4f10-8765-a34f6faaa14b",
   "metadata": {},
   "source": [
    "#### Dev set"
   ]
  },
  {
   "cell_type": "code",
   "execution_count": 6,
   "id": "960ba75a-c128-450a-a615-3d035d431214",
   "metadata": {},
   "outputs": [],
   "source": [
    "data_dev = data[0:1000].T # T for transposing as each column is number features\n",
    "Y_dev = data_dev[0]\n",
    "X_dev = data_dev[1:n]\n",
    "X_dev = X_dev / 255. # scaling X between 0 and 1"
   ]
  },
  {
   "cell_type": "code",
   "execution_count": 7,
   "id": "01378902-e472-4e21-b2a4-bca07dfc1634",
   "metadata": {},
   "outputs": [
    {
     "name": "stdout",
     "output_type": "stream",
     "text": [
      "(784, 1000)\n"
     ]
    },
    {
     "data": {
      "text/plain": [
       "array([[0., 0., 0., ..., 0., 0., 0.],\n",
       "       [0., 0., 0., ..., 0., 0., 0.],\n",
       "       [0., 0., 0., ..., 0., 0., 0.],\n",
       "       ...,\n",
       "       [0., 0., 0., ..., 0., 0., 0.],\n",
       "       [0., 0., 0., ..., 0., 0., 0.],\n",
       "       [0., 0., 0., ..., 0., 0., 0.]], shape=(10, 1000))"
      ]
     },
     "execution_count": 7,
     "metadata": {},
     "output_type": "execute_result"
    }
   ],
   "source": [
    "print(X_dev.shape)\n",
    "X_dev[:10]"
   ]
  },
  {
   "cell_type": "code",
   "execution_count": 8,
   "id": "fd913606-7b5b-4a78-85e1-9f5f19f31c25",
   "metadata": {},
   "outputs": [
    {
     "name": "stdout",
     "output_type": "stream",
     "text": [
      "(1000,)\n"
     ]
    },
    {
     "data": {
      "text/plain": [
       "array([9, 2, 8, 0, 4, 0, 3, 6, 8, 0])"
      ]
     },
     "execution_count": 8,
     "metadata": {},
     "output_type": "execute_result"
    }
   ],
   "source": [
    "print(Y_dev.shape)\n",
    "Y_dev[:10]"
   ]
  },
  {
   "cell_type": "markdown",
   "id": "bc389356-cd23-4878-ae68-b96c077540e2",
   "metadata": {},
   "source": [
    "#### Training set"
   ]
  },
  {
   "cell_type": "code",
   "execution_count": 9,
   "id": "b0bd60ca-bf6f-4742-8080-b26061207b72",
   "metadata": {},
   "outputs": [],
   "source": [
    "data_train = data[1000:m].T\n",
    "Y_train = data_train[0]\n",
    "X_train = data_train[1:n]\n",
    "X_train = X_train / 255.\n",
    "_, m_train = X_train.shape"
   ]
  },
  {
   "cell_type": "code",
   "execution_count": 10,
   "id": "54c408de-0b3a-4a09-bb5a-b1303ccddd81",
   "metadata": {},
   "outputs": [
    {
     "name": "stdout",
     "output_type": "stream",
     "text": [
      "(784, 41000)\n"
     ]
    },
    {
     "data": {
      "text/plain": [
       "array([[0., 0., 0., ..., 0., 0., 0.],\n",
       "       [0., 0., 0., ..., 0., 0., 0.],\n",
       "       [0., 0., 0., ..., 0., 0., 0.],\n",
       "       ...,\n",
       "       [0., 0., 0., ..., 0., 0., 0.],\n",
       "       [0., 0., 0., ..., 0., 0., 0.],\n",
       "       [0., 0., 0., ..., 0., 0., 0.]], shape=(10, 41000))"
      ]
     },
     "execution_count": 10,
     "metadata": {},
     "output_type": "execute_result"
    }
   ],
   "source": [
    "print(X_train.shape)\n",
    "X_train[:10]"
   ]
  },
  {
   "cell_type": "code",
   "execution_count": 11,
   "id": "29427db3-f948-4388-a040-75c0840d0d24",
   "metadata": {},
   "outputs": [
    {
     "name": "stdout",
     "output_type": "stream",
     "text": [
      "(41000,)\n"
     ]
    },
    {
     "data": {
      "text/plain": [
       "array([2, 2, 6, 7, 7, 8, 8, 8, 3, 8])"
      ]
     },
     "execution_count": 11,
     "metadata": {},
     "output_type": "execute_result"
    }
   ],
   "source": [
    "print(Y_train.shape)\n",
    "Y_train[:10]"
   ]
  },
  {
   "cell_type": "markdown",
   "id": "13b98704-988e-4fdd-bced-c59ea4527a73",
   "metadata": {},
   "source": [
    "### Define our Neural Network"
   ]
  },
  {
   "cell_type": "markdown",
   "id": "fe3c814a-e5ed-49eb-aacc-9b0c57970e61",
   "metadata": {},
   "source": [
    "Our NN will have a simple two-layer architecture. Input layer a<sup>[0]</sup> will have 784 units corresponding to the 784 pixels in each 28x28 input image. A hidden layer  𝑎<sup>[1]</sup>\n",
    "  will have 10 units with ReLU activation, and finally our output layer  𝑎<sup>[2]</sup>\n",
    "  will have 10 units corresponding to the ten digit classes with softmax activation."
   ]
  },
  {
   "cell_type": "markdown",
   "id": "fa26fb9d-e58d-4761-901d-ef756b6894d7",
   "metadata": {},
   "source": [
    "**Forward propagation**\n",
    "\n",
    "$Z^{[1]} = W^{[1]}X + b^{[1]}$\n",
    "\n",
    "$A^{[1]} = g_{ReLU}(Z^{[1]})$\n",
    "\n",
    "$Z^{[2]} = W^{[2]}A^{[1]} + b^{[2]}$\n",
    "\n",
    "$A^{[2]} = g_{softmax}(Z^{[2]})$\n",
    "\n",
    "**Backward propagation**\n",
    "\n",
    "$dZ^{[2]} = A^{[2]} - Y$\n",
    "\n",
    "$dW^{[2]} = \\frac{1}{m} dZ^{[2]} A^{[1]T}$\n",
    "\n",
    "$dB^{[2]} = \\frac{1}{m} \\Sigma dZ^{[2]}$\n",
    "\n",
    "$dZ^{[1]} = W^{[2]T} dZ^{[2]} \\cdot* g^{[1]'}(z^{[1]})$\n",
    "\n",
    "$dW^{[1]} = \\frac{1}{m} dZ^{[1]} A^{[0]T}$\n",
    "\n",
    "$dB^{[1]} = \\frac{1}{m} \\Sigma dZ^{[1]}$\n",
    "\n",
    "**Parameter updates**\n",
    "\n",
    "$W^{[2]} := W^{[2]} - \\alpha dW^{[2]}$\n",
    "\n",
    "$b^{[2]} := b^{[2]} - \\alpha db^{[2]}$\n",
    "\n",
    "$W^{[1]} := W^{[1]} - \\alpha dW^{[1]}$\n",
    "\n",
    "$b^{[1]} := b^{[1]} - \\alpha db^{[1]}$"
   ]
  },
  {
   "cell_type": "markdown",
   "id": "a9710b28-14e9-4ef4-869e-e2764aa95a9b",
   "metadata": {},
   "source": [
    "### Vars and shapes\n",
    "\n",
    "**Forward prop**\n",
    "\n",
    "- $A^{[0]} = X$: 784 x m\n",
    "\n",
    "- $Z^{[1]} \\sim A^{[1]}$: 10 x m\n",
    "\n",
    "- $W^{[1]}$: 10 x 784 (as $W^{[1]}A^{[0]} \\sim Z^{[1]}$)\n",
    "\n",
    "- $B^{[1]}$: 10 x 1\n",
    "\n",
    "- $Z^{[2]} \\sim A^{[2]}$: 10 x m\n",
    "\n",
    "- $W^{[2]}$: 10 x 10 (as $W^{[2]}A^{[1]} \\sim Z^{[2]}$)\n",
    "\n",
    "- $B^{[2]}$: 10 x 1\n",
    "\n",
    "**Backprop**\n",
    "\n",
    "- $dZ^{[2]}$: 10 x m ($A^{[2]}$)\n",
    "\n",
    "- $dW^{[2]}$: 10 x 10\n",
    "\n",
    "- $dB^{[2]}$: 10 x 1\n",
    "\n",
    "- $dZ^{[1]}$: 10 x m ($A^{[1]}$)\n",
    "\n",
    "- $dW^{[1]}$: 10 x 784\n",
    "\n",
    "- $dB^{[1]}$: 10 x 1"
   ]
  },
  {
   "cell_type": "markdown",
   "id": "221d7ba1-4965-4a18-b702-aafe183437ed",
   "metadata": {},
   "source": [
    "#### Forward Prop"
   ]
  },
  {
   "cell_type": "code",
   "execution_count": 12,
   "id": "41b546db-083b-41c2-910f-c8bfe9c1d774",
   "metadata": {},
   "outputs": [],
   "source": [
    "def init_params():\n",
    "    W1 = np.random.rand(10, 784) - 0.5\n",
    "    b1 = np.random.rand(10, 1) - 0.5\n",
    "    W2 = np.random.rand(10, 10) - 0.5\n",
    "    b2 = np.random.rand(10, 1) - 0.5\n",
    "    return W1, b1, W2, b2"
   ]
  },
  {
   "cell_type": "code",
   "execution_count": 13,
   "id": "2d6ba4eb-831d-46f7-ab1a-b5f39b8e8fe0",
   "metadata": {},
   "outputs": [],
   "source": [
    "def ReLU(Z):\n",
    "    return np.maximum(Z, 0)"
   ]
  },
  {
   "cell_type": "code",
   "execution_count": 14,
   "id": "64eb36de-0644-4eff-88c4-2e0735b85eaf",
   "metadata": {},
   "outputs": [],
   "source": [
    "def softmax(Z):\n",
    "    \"\"\"Column-wise stable softmax. Z shape: (n_classes, m)\"\"\"\n",
    "    Z_shift = Z - np.max(Z, axis=0, keepdims=True)\n",
    "    expZ = np.exp(Z_shift)\n",
    "    return expZ / np.sum(expZ, axis=0, keepdims=True)"
   ]
  },
  {
   "cell_type": "code",
   "execution_count": 15,
   "id": "eef73f57-3895-4ed8-9f3d-1e12b5aaee05",
   "metadata": {},
   "outputs": [],
   "source": [
    "def forward_prop(W1, b1, W2, b2, X):\n",
    "    Z1 = W1.dot(X) + b1\n",
    "    A1 = ReLU(Z1)\n",
    "    Z2 = W2.dot(A1) + b2\n",
    "    A2 = softmax(Z2)\n",
    "    return Z1, A1, Z2, A2"
   ]
  },
  {
   "cell_type": "markdown",
   "id": "b698a542-4fec-4b5d-b901-4ac06d5be9d0",
   "metadata": {},
   "source": [
    "#### Backward Prop"
   ]
  },
  {
   "cell_type": "code",
   "execution_count": 16,
   "id": "bf4ad2bb-62bd-442e-ad7d-e43bfe433301",
   "metadata": {},
   "outputs": [],
   "source": [
    "def one_hot(Y):\n",
    "    one_hot_Y = np.zeros((Y.size, Y.max()+1 ))\n",
    "    one_hot_Y[np.arange(Y.size), Y] = 1  # places a 1 in the correct column (representing the class label) for each row (representing a data point).\n",
    "    one_hot_Y = one_hot_Y.T  # now each row of one_hot_Y corresponds to a class, and each column corresponds to a data point\n",
    "    return one_hot_Y"
   ]
  },
  {
   "cell_type": "code",
   "execution_count": 17,
   "id": "c18885e4-6442-4b0d-a928-1964131500b1",
   "metadata": {},
   "outputs": [],
   "source": [
    "def ReLU_deriv(Z):\n",
    "    return Z > 0  # This will output 1 if Z bigger that zero (relu in positive side of x axis) and 0 if not (remember relu function shape for better intuition)"
   ]
  },
  {
   "cell_type": "code",
   "execution_count": 18,
   "id": "fbc74e2d-6f4e-4664-8375-476c6af11744",
   "metadata": {},
   "outputs": [],
   "source": [
    "def backward_prop(Z1, A1, Z2, A2, W1, W2, X, Y):\n",
    "    one_hot_Y = one_hot(Y)\n",
    "    dZ2 = A2 - one_hot_Y\n",
    "    dW2 = 1 / m * dZ2.dot(A1.T)\n",
    "    db2 = 1 / m * np.sum(dZ2)\n",
    "    dZ1 = W2.T.dot(dZ2 * ReLU_deriv(Z1))\n",
    "    dW1 = 1 / m * dZ1.dot(X.T)\n",
    "    db1 = 1 / m * np.sum(dZ1)\n",
    "    return dW1, db1, dW2, db2"
   ]
  },
  {
   "cell_type": "code",
   "execution_count": 19,
   "id": "1d4d5fcd-c7c1-4332-b122-12dd3fd391c1",
   "metadata": {},
   "outputs": [],
   "source": [
    "def update_params(W1, b1, W2, b2, dW1, db1, dW2, db2, alpha):\n",
    "    # our tiny steps down the hill\n",
    "    W1 = W1 - alpha * dW1\n",
    "    b1 = b1 - alpha * db1\n",
    "    W2 = W2 - alpha * dW2\n",
    "    b2 = b2 - alpha * db2\n",
    "    return W1, b1, W2, b2"
   ]
  },
  {
   "cell_type": "code",
   "execution_count": 20,
   "id": "8caaa246-093e-492f-b195-426518ec0822",
   "metadata": {},
   "outputs": [],
   "source": [
    "def get_predictions(A2):\n",
    "    # return max value afte our softmax\n",
    "    return np.argmax(A2, 0)"
   ]
  },
  {
   "cell_type": "code",
   "execution_count": 21,
   "id": "91193604-de72-43ef-956f-2c8e654d660e",
   "metadata": {},
   "outputs": [],
   "source": [
    "def get_accuracy(predictions, Y):\n",
    "    # For printing accuracy of model through iterations\n",
    "    print(predictions, Y) #pring model output Ys and Y_hat (real Ys)\n",
    "    return np.sum(predictions == Y) / Y.size"
   ]
  },
  {
   "cell_type": "code",
   "execution_count": 22,
   "id": "724322f3-3de3-4fe2-bb51-d17cec34a629",
   "metadata": {},
   "outputs": [],
   "source": [
    "def cross_entropy_loss_from_A2(A2, Y):\n",
    "    \"\"\"A2: (10, m), Y: (m,) -> scalar average cross-entropy\"\"\"\n",
    "    Y_one = one_hot(Y)           # shape (10, m)\n",
    "    eps = 1e-12\n",
    "    m = Y.size\n",
    "    loss = - np.sum(Y_one * np.log(A2 + eps)) / m\n",
    "    return loss"
   ]
  },
  {
   "cell_type": "markdown",
   "id": "ae542ab4-7a78-405c-95bb-263fe57d28d1",
   "metadata": {},
   "source": [
    "### Gradient descent with plotting at the end"
   ]
  },
  {
   "cell_type": "code",
   "execution_count": 23,
   "id": "49492ede-95dd-4c23-8633-e78475e9e102",
   "metadata": {},
   "outputs": [],
   "source": [
    "def gradient_descent(X_train, Y_train, X_dev, Y_dev,\n",
    "                   epochs=30,\n",
    "                   iterations_per_epoch=20,\n",
    "                   alpha=0.1,\n",
    "                   verbose=True):\n",
    "    \"\"\"\n",
    "    Train using forward/backward/update functions in epoch steps,\n",
    "    compute train/dev loss each epoch and plot them.\n",
    "    - iterations_per_epoch * epochs is equivalent to total iterations.\n",
    "    - This function does NOT modify my existing functions; it only adds a wrapper.\n",
    "    \"\"\"\n",
    "    # initialize parameters\n",
    "    W1, b1, W2, b2 = init_params()\n",
    "\n",
    "    train_losses = []\n",
    "    dev_losses = []\n",
    "\n",
    "    start_time = time.time()\n",
    "    for ep in range(epochs):\n",
    "        ep_start = time.time()\n",
    "        # iterations_per_epoch gradient steps\n",
    "        for it in range(iterations_per_epoch):\n",
    "            Z1, A1, Z2, A2 = forward_prop(W1, b1, W2, b2, X_train)\n",
    "            dW1, db1, dW2, db2 = backward_prop(Z1, A1, Z2, A2, W1, W2, X_train, Y_train)\n",
    "            W1, b1, W2, b2 = update_params(W1, b1, W2, b2, dW1, db1, dW2, db2, alpha)\n",
    "\n",
    "        # compute losses using stable softmax built from the raw Z2 returned by forward_prop\n",
    "        _, _, Z2_train_raw, _ = forward_prop(W1, b1, W2, b2, X_train)\n",
    "        A2_train = softmax(Z2_train_raw)\n",
    "        loss_train = cross_entropy_loss_from_A2(A2_train, Y_train)\n",
    "\n",
    "        _, _, Z2_dev_raw, _ = forward_prop(W1, b1, W2, b2, X_dev)\n",
    "        A2_dev = softmax(Z2_dev_raw)\n",
    "        loss_dev = cross_entropy_loss_from_A2(A2_dev, Y_dev)\n",
    "\n",
    "        train_losses.append(loss_train)\n",
    "        dev_losses.append(loss_dev)\n",
    "\n",
    "        if verbose:\n",
    "            # show training accuracy on train set\n",
    "            train_preds = get_predictions(A2_train)\n",
    "            train_acc = get_accuracy(train_preds, Y_train)\n",
    "            ep_time = time.time() - ep_start\n",
    "            print(f\"Epoch {ep+1}/{epochs}  train_loss={loss_train:.4f}  dev_loss={loss_dev:.4f}  train_acc={train_acc:.4f}  ({ep_time:.1f}s)\")\n",
    "\n",
    "    total_time = time.time() - start_time\n",
    "    if verbose:\n",
    "        print(f\"\\nTraining finished in {total_time:.1f}s\")\n",
    "\n",
    "    # plot losses\n",
    "    plt.figure(figsize=(8,5))\n",
    "    plt.plot(train_losses, label='train loss')\n",
    "    plt.plot(dev_losses, label='dev loss')\n",
    "    plt.xlabel('epoch')\n",
    "    plt.ylabel('loss')\n",
    "    plt.title('Train vs Dev loss per epoch')\n",
    "    plt.legend()\n",
    "    plt.grid(alpha=0.2)\n",
    "    plt.tight_layout()\n",
    "    plt.show()\n",
    "\n",
    "    return W1, b1, W2, b2, train_losses, dev_losses"
   ]
  },
  {
   "cell_type": "markdown",
   "id": "0e867b96-a563-448c-9713-b752fd0cc2a5",
   "metadata": {},
   "source": [
    "#### Let's Train"
   ]
  },
  {
   "cell_type": "code",
   "execution_count": 26,
   "id": "4a1cdc9a-8883-45f3-962c-acf802d3f3df",
   "metadata": {},
   "outputs": [
    {
     "name": "stdout",
     "output_type": "stream",
     "text": [
      "[1 6 4 ... 4 9 4] [2 2 6 ... 9 7 4]\n",
      "Epoch 1/50  train_loss=2.0746  dev_loss=2.0775  train_acc=0.2536  (0.5s)\n",
      "[2 1 4 ... 4 7 4] [2 2 6 ... 9 7 4]\n",
      "Epoch 2/50  train_loss=1.8127  dev_loss=1.8248  train_acc=0.3692  (0.4s)\n",
      "[2 1 4 ... 4 7 4] [2 2 6 ... 9 7 4]\n",
      "Epoch 3/50  train_loss=1.6156  dev_loss=1.6318  train_acc=0.4525  (0.4s)\n",
      "[2 2 4 ... 4 7 4] [2 2 6 ... 9 7 4]\n",
      "Epoch 4/50  train_loss=1.4565  dev_loss=1.4777  train_acc=0.5112  (0.4s)\n",
      "[2 2 4 ... 4 7 4] [2 2 6 ... 9 7 4]\n",
      "Epoch 5/50  train_loss=1.3289  dev_loss=1.3535  train_acc=0.5597  (0.4s)\n",
      "[2 2 4 ... 9 7 4] [2 2 6 ... 9 7 4]\n",
      "Epoch 6/50  train_loss=1.2282  dev_loss=1.2549  train_acc=0.5975  (0.4s)\n",
      "[2 2 4 ... 9 7 4] [2 2 6 ... 9 7 4]\n",
      "Epoch 7/50  train_loss=1.1500  dev_loss=1.1779  train_acc=0.6227  (0.4s)\n",
      "[2 2 4 ... 9 7 4] [2 2 6 ... 9 7 4]\n",
      "Epoch 8/50  train_loss=1.0895  dev_loss=1.1186  train_acc=0.6433  (0.4s)\n",
      "[2 2 4 ... 9 7 4] [2 2 6 ... 9 7 4]\n",
      "Epoch 9/50  train_loss=1.0418  dev_loss=1.0724  train_acc=0.6589  (0.4s)\n",
      "[2 2 4 ... 9 7 4] [2 2 6 ... 9 7 4]\n",
      "Epoch 10/50  train_loss=1.0036  dev_loss=1.0358  train_acc=0.6720  (0.4s)\n",
      "[2 2 4 ... 9 7 4] [2 2 6 ... 9 7 4]\n",
      "Epoch 11/50  train_loss=0.9732  dev_loss=1.0062  train_acc=0.6806  (0.5s)\n",
      "[2 2 4 ... 9 7 4] [2 2 6 ... 9 7 4]\n",
      "Epoch 12/50  train_loss=0.9489  dev_loss=0.9826  train_acc=0.6878  (0.4s)\n",
      "[2 2 4 ... 9 7 4] [2 2 6 ... 9 7 4]\n",
      "Epoch 13/50  train_loss=0.9281  dev_loss=0.9641  train_acc=0.6928  (0.4s)\n",
      "[2 2 4 ... 9 7 4] [2 2 6 ... 9 7 4]\n",
      "Epoch 14/50  train_loss=0.9091  dev_loss=0.9474  train_acc=0.6983  (0.4s)\n",
      "[2 2 4 ... 9 7 4] [2 2 6 ... 9 7 4]\n",
      "Epoch 15/50  train_loss=0.8909  dev_loss=0.9302  train_acc=0.7048  (0.4s)\n",
      "[2 2 4 ... 9 7 4] [2 2 6 ... 9 7 4]\n",
      "Epoch 16/50  train_loss=0.8723  dev_loss=0.9118  train_acc=0.7101  (0.4s)\n",
      "[2 2 4 ... 9 7 4] [2 2 6 ... 9 7 4]\n",
      "Epoch 17/50  train_loss=0.8523  dev_loss=0.8945  train_acc=0.7181  (0.4s)\n",
      "[2 2 4 ... 9 7 4] [2 2 6 ... 9 7 4]\n",
      "Epoch 18/50  train_loss=0.8311  dev_loss=0.8752  train_acc=0.7267  (0.4s)\n",
      "[2 2 4 ... 9 7 4] [2 2 6 ... 9 7 4]\n",
      "Epoch 19/50  train_loss=0.8091  dev_loss=0.8538  train_acc=0.7353  (0.4s)\n",
      "[2 2 4 ... 9 7 4] [2 2 6 ... 9 7 4]\n",
      "Epoch 20/50  train_loss=0.7874  dev_loss=0.8321  train_acc=0.7436  (0.4s)\n",
      "[2 2 4 ... 9 7 4] [2 2 6 ... 9 7 4]\n",
      "Epoch 21/50  train_loss=0.7663  dev_loss=0.8122  train_acc=0.7518  (0.4s)\n",
      "[2 2 4 ... 9 7 4] [2 2 6 ... 9 7 4]\n",
      "Epoch 22/50  train_loss=0.7462  dev_loss=0.7938  train_acc=0.7584  (0.4s)\n",
      "[2 2 4 ... 9 7 4] [2 2 6 ... 9 7 4]\n",
      "Epoch 23/50  train_loss=0.7274  dev_loss=0.7761  train_acc=0.7654  (0.4s)\n",
      "[2 2 4 ... 9 7 4] [2 2 6 ... 9 7 4]\n",
      "Epoch 24/50  train_loss=0.7098  dev_loss=0.7595  train_acc=0.7721  (0.4s)\n",
      "[2 2 4 ... 9 7 4] [2 2 6 ... 9 7 4]\n",
      "Epoch 25/50  train_loss=0.6936  dev_loss=0.7442  train_acc=0.7781  (0.4s)\n",
      "[2 2 4 ... 9 7 4] [2 2 6 ... 9 7 4]\n",
      "Epoch 26/50  train_loss=0.6787  dev_loss=0.7300  train_acc=0.7839  (0.4s)\n",
      "[2 2 4 ... 9 7 4] [2 2 6 ... 9 7 4]\n",
      "Epoch 27/50  train_loss=0.6648  dev_loss=0.7169  train_acc=0.7880  (0.4s)\n",
      "[2 2 4 ... 9 7 4] [2 2 6 ... 9 7 4]\n",
      "Epoch 28/50  train_loss=0.6519  dev_loss=0.7045  train_acc=0.7928  (0.4s)\n",
      "[2 2 4 ... 9 7 4] [2 2 6 ... 9 7 4]\n",
      "Epoch 29/50  train_loss=0.6399  dev_loss=0.6931  train_acc=0.7973  (0.4s)\n",
      "[2 2 4 ... 9 7 4] [2 2 6 ... 9 7 4]\n",
      "Epoch 30/50  train_loss=0.6288  dev_loss=0.6825  train_acc=0.8012  (0.4s)\n",
      "[2 2 4 ... 9 7 4] [2 2 6 ... 9 7 4]\n",
      "Epoch 31/50  train_loss=0.6185  dev_loss=0.6725  train_acc=0.8054  (0.4s)\n",
      "[2 2 4 ... 9 7 4] [2 2 6 ... 9 7 4]\n",
      "Epoch 32/50  train_loss=0.6089  dev_loss=0.6630  train_acc=0.8089  (0.4s)\n",
      "[2 2 4 ... 9 7 4] [2 2 6 ... 9 7 4]\n",
      "Epoch 33/50  train_loss=0.5999  dev_loss=0.6539  train_acc=0.8132  (0.4s)\n",
      "[2 2 4 ... 9 7 4] [2 2 6 ... 9 7 4]\n",
      "Epoch 34/50  train_loss=0.5917  dev_loss=0.6452  train_acc=0.8163  (0.5s)\n",
      "[2 2 4 ... 9 7 4] [2 2 6 ... 9 7 4]\n",
      "Epoch 35/50  train_loss=0.5840  dev_loss=0.6372  train_acc=0.8189  (0.4s)\n",
      "[2 2 4 ... 9 7 4] [2 2 6 ... 9 7 4]\n",
      "Epoch 36/50  train_loss=0.5770  dev_loss=0.6296  train_acc=0.8212  (0.4s)\n",
      "[2 2 4 ... 9 7 4] [2 2 6 ... 9 7 4]\n",
      "Epoch 37/50  train_loss=0.5704  dev_loss=0.6226  train_acc=0.8236  (0.4s)\n",
      "[2 2 4 ... 9 7 4] [2 2 6 ... 9 7 4]\n",
      "Epoch 38/50  train_loss=0.5644  dev_loss=0.6162  train_acc=0.8258  (0.4s)\n",
      "[2 2 4 ... 9 7 4] [2 2 6 ... 9 7 4]\n",
      "Epoch 39/50  train_loss=0.5589  dev_loss=0.6101  train_acc=0.8280  (0.5s)\n",
      "[2 2 4 ... 9 7 4] [2 2 6 ... 9 7 4]\n",
      "Epoch 40/50  train_loss=0.5538  dev_loss=0.6043  train_acc=0.8301  (0.4s)\n",
      "[2 2 4 ... 9 7 4] [2 2 6 ... 9 7 4]\n",
      "Epoch 41/50  train_loss=0.5493  dev_loss=0.5991  train_acc=0.8320  (0.4s)\n",
      "[2 2 4 ... 9 7 4] [2 2 6 ... 9 7 4]\n",
      "Epoch 42/50  train_loss=0.5451  dev_loss=0.5944  train_acc=0.8333  (0.4s)\n",
      "[2 2 4 ... 9 7 4] [2 2 6 ... 9 7 4]\n",
      "Epoch 43/50  train_loss=0.5414  dev_loss=0.5901  train_acc=0.8340  (0.4s)\n",
      "[2 2 4 ... 9 7 4] [2 2 6 ... 9 7 4]\n",
      "Epoch 44/50  train_loss=0.5379  dev_loss=0.5863  train_acc=0.8350  (0.4s)\n",
      "[2 2 4 ... 9 7 4] [2 2 6 ... 9 7 4]\n",
      "Epoch 45/50  train_loss=0.5347  dev_loss=0.5828  train_acc=0.8356  (0.4s)\n",
      "[2 2 4 ... 9 7 4] [2 2 6 ... 9 7 4]\n",
      "Epoch 46/50  train_loss=0.5317  dev_loss=0.5797  train_acc=0.8368  (0.4s)\n",
      "[2 2 4 ... 9 7 4] [2 2 6 ... 9 7 4]\n",
      "Epoch 47/50  train_loss=0.5290  dev_loss=0.5768  train_acc=0.8376  (0.4s)\n",
      "[2 2 4 ... 9 7 4] [2 2 6 ... 9 7 4]\n",
      "Epoch 48/50  train_loss=0.5265  dev_loss=0.5739  train_acc=0.8386  (0.4s)\n",
      "[2 2 4 ... 9 7 4] [2 2 6 ... 9 7 4]\n",
      "Epoch 49/50  train_loss=0.5242  dev_loss=0.5712  train_acc=0.8390  (0.4s)\n",
      "[2 2 4 ... 9 7 4] [2 2 6 ... 9 7 4]\n",
      "Epoch 50/50  train_loss=0.5220  dev_loss=0.5686  train_acc=0.8398  (0.4s)\n",
      "\n",
      "Training finished in 21.8s\n"
     ]
    },
    {
     "data": {
      "image/png": "[encoded data removed]",
      "text/plain": [
       "<Figure size 800x500 with 1 Axes>"
      ]
     },
     "metadata": {},
     "output_type": "display_data"
    }
   ],
   "source": [
    "W1, b1, W2, b2, train_losses, dev_losses = gradient_descent(\n",
    "    X_train, Y_train, X_dev, Y_dev,\n",
    "    epochs=50, iterations_per_epoch=20, alpha=0.10)"
   ]
  },
  {
   "cell_type": "markdown",
   "id": "1b992e18-3efa-478a-94ff-5e8685669200",
   "metadata": {},
   "source": [
    "*with 1000 iterations the model accuracy is about 80 percent * \\\n",
    "ps: my neural network architecture could be more complex with more layers and neurons (right now my model is high bias compare to state of the art handwritten digit recognition neural networks) \\\n",
    "or even using CNN, vision-transformers and etc but I wanted to build a neural network from scratch with raw algebra and math for educational purposes and gain better intuition about neural networks"
   ]
  },
  {
   "cell_type": "markdown",
   "id": "202a1175-cc9f-41d5-baef-0ddfeec9b763",
   "metadata": {},
   "source": [
    "### Test the model on dev set"
   ]
  },
  {
   "cell_type": "code",
   "execution_count": 27,
   "id": "7fd8e793-c700-410d-a8f2-43a7859b3804",
   "metadata": {},
   "outputs": [],
   "source": [
    "def make_predictions(X, W1, b1, W2, b2):\n",
    "    _, _, _, A2 = forward_prop(W1, b1, W2, b2, X)\n",
    "    predictions = get_predictions(A2)\n",
    "    return predictions"
   ]
  },
  {
   "cell_type": "code",
   "execution_count": 28,
   "id": "51cb4b7b-ef59-4588-8475-fa904122b66d",
   "metadata": {},
   "outputs": [
    {
     "name": "stdout",
     "output_type": "stream",
     "text": [
      "[9 9 2 0 4 5 3 6 3 0 7 6 8 3 7 5 9 1 2 8 5 5 8 9 9 3 8 7 8 3 5 0 9 2 1 3 1\n",
      " 5 2 1 0 6 7 9 9 1 5 7 9 5 9 7 5 7 9 2 3 7 8 1 6 4 3 3 5 7 8 8 5 8 2 0 0 8\n",
      " 9 4 6 4 5 3 7 3 3 3 6 7 7 5 6 3 9 1 1 9 4 2 9 1 4 0 2 6 3 4 1 0 4 4 7 7 9\n",
      " 4 6 5 0 9 4 6 6 4 2 1 0 0 8 7 7 6 4 1 6 6 0 4 2 1 3 5 9 3 5 4 5 0 0 4 3 0\n",
      " 2 7 2 4 1 6 3 1 2 1 8 4 1 4 2 8 5 7 6 0 6 9 3 6 1 3 1 1 6 2 6 8 1 2 9 8 5\n",
      " 9 9 0 5 2 3 8 9 6 6 0 2 8 0 9 9 0 7 8 6 2 1 2 7 4 5 0 0 6 0 8 3 6 9 7 0 3\n",
      " 6 6 1 2 9 8 8 4 3 7 7 4 5 0 5 4 8 7 9 3 2 3 1 8 1 1 2 1 2 9 0 4 1 3 3 8 0\n",
      " 1 4 5 0 3 3 5 1 5 6 2 3 1 7 0 3 2 6 7 6 1 1 4 0 1 4 5 2 8 2 8 3 7 2 0 6 3\n",
      " 2 2 4 4 4 6 5 7 9 9 8 9 5 5 2 0 7 9 1 9 3 7 8 1 0 6 8 7 1 5 0 3 6 0 6 0 0\n",
      " 6 1 9 2 9 3 3 5 3 4 9 3 1 8 4 5 7 7 3 8 9 4 6 8 4 3 5 6 0 4 0 8 8 9 5 9 6\n",
      " 3 4 7 8 5 8 2 0 2 6 5 2 5 4 1 7 1 3 9 7 3 3 0 9 7 0 7 4 1 9 7 6 2 9 0 0 2\n",
      " 1 6 5 7 7 6 8 1 9 9 2 7 4 5 7 5 6 8 8 7 4 2 4 9 7 2 8 6 3 3 8 9 3 2 0 1 9\n",
      " 3 4 4 4 1 9 3 3 2 4 5 9 4 8 3 1 2 1 1 7 2 4 1 0 7 3 3 7 6 5 1 9 8 5 6 0 3\n",
      " 2 0 1 3 7 0 6 2 9 8 7 3 5 0 1 0 5 1 0 3 8 6 5 4 5 3 3 4 3 3 0 3 2 4 3 9 5\n",
      " 6 8 9 9 3 0 6 3 4 4 9 6 8 8 8 1 1 3 3 0 3 2 1 7 6 0 8 6 3 4 1 0 4 3 6 9 6\n",
      " 1 5 7 8 1 1 8 8 3 5 7 0 1 9 5 9 8 9 2 3 7 3 0 6 6 1 6 3 2 3 1 9 2 0 2 0 5\n",
      " 3 9 0 8 8 9 3 1 0 1 4 6 2 9 9 1 5 4 8 1 2 8 9 9 5 1 6 7 0 5 6 9 5 0 7 4 1\n",
      " 4 9 6 9 7 0 8 1 9 2 7 7 0 7 3 6 1 8 9 1 1 7 5 6 1 5 1 4 2 2 7 0 1 3 1 4 1\n",
      " 7 8 3 4 6 6 8 7 7 7 5 5 8 5 0 2 7 9 9 6 0 0 2 9 5 3 2 6 8 9 8 9 3 6 3 4 3\n",
      " 4 3 9 7 0 9 2 1 0 3 9 7 1 4 8 6 1 6 4 1 9 8 3 2 4 3 6 1 3 9 4 4 2 4 2 5 4\n",
      " 7 2 2 0 4 2 6 9 0 1 5 9 8 9 7 3 4 0 6 2 0 4 2 7 2 6 8 4 2 6 8 2 5 7 9 0 8\n",
      " 8 7 0 7 0 3 0 5 9 9 1 0 6 8 8 0 9 4 5 9 0 1 0 1 8 4 5 2 9 4 4 2 8 6 2 5 6\n",
      " 6 6 1 1 6 3 9 7 2 6 6 1 7 1 6 4 3 1 7 0 4 1 3 3 9 8 3 6 4 0 5 0 0 1 3 2 8\n",
      " 9 7 1 9 2 4 6 8 1 5 4 2 6 4 2 4 4 3 5 0 5 6 9 9 0 9 0 0 4 6 3 2 7 8 1 7 3\n",
      " 9 1 1 1 5 1 3 4 3 4 6 7 1 5 3 1 2 7 6 8 3 0 4 7 9 3 8 8 6 0 8 6 9 3 5 7 0\n",
      " 8 3 1 4 8 0 6 4 5 5 6 5 8 8 1 5 8 1 7 6 5 1 2 5 2 4 0 0 1 5 4 1 2 4 9 1 6\n",
      " 5 4 9 0 3 7 4 9 0 1 2 9 9 9 6 0 3 4 0 5 0 2 9 8 0 9 6 7 2 6 7 0 9 2 1 7 3\n",
      " 3] [9 2 8 0 4 0 3 6 8 0 7 6 6 3 7 5 9 1 6 8 3 0 8 4 3 3 6 7 2 3 5 0 9 2 1 0 1\n",
      " 5 3 1 2 6 9 9 9 1 5 7 7 3 9 7 5 7 9 2 3 7 8 1 6 4 3 3 5 7 8 8 5 8 2 0 0 8\n",
      " 9 4 6 4 5 3 7 3 3 3 6 7 7 0 6 3 9 1 1 9 4 2 9 1 2 0 2 6 3 4 1 5 4 9 7 7 9\n",
      " 4 6 5 0 9 4 6 6 4 2 1 0 0 8 7 7 6 4 1 6 6 5 4 2 1 3 8 9 3 6 4 5 0 0 4 3 0\n",
      " 3 7 2 4 1 6 3 1 2 1 2 4 1 4 2 4 5 7 6 0 6 9 3 6 1 3 1 4 6 2 6 8 1 2 9 8 6\n",
      " 9 9 0 3 2 3 8 8 5 6 0 2 8 0 9 9 0 7 3 6 2 1 2 7 4 5 0 0 2 0 8 3 6 2 3 0 3\n",
      " 6 6 8 2 7 8 8 4 3 7 9 4 0 0 5 4 8 7 9 3 7 3 1 8 5 1 2 1 2 9 0 4 1 2 3 8 0\n",
      " 1 4 5 5 3 3 3 1 9 6 2 3 1 7 0 3 2 6 7 6 1 1 4 0 1 4 5 2 8 2 8 5 7 2 0 6 3\n",
      " 7 2 4 4 4 3 5 7 4 5 3 9 5 3 2 0 7 9 1 9 2 7 8 1 0 6 8 7 1 8 0 3 6 0 6 0 0\n",
      " 6 1 4 3 9 3 3 3 9 4 9 3 1 8 4 5 7 7 3 2 9 4 8 9 4 5 5 6 0 4 6 5 8 9 7 9 6\n",
      " 3 5 7 8 5 8 2 0 6 6 5 2 5 4 1 7 1 3 9 7 8 3 0 9 7 0 7 4 1 9 7 6 2 9 3 5 2\n",
      " 2 6 5 7 7 6 0 1 9 9 2 7 2 5 7 5 6 8 8 5 4 2 4 9 9 2 8 6 3 3 8 9 3 2 0 1 8\n",
      " 5 4 4 4 1 9 3 5 2 4 5 9 4 8 2 1 2 1 1 3 2 9 1 0 7 3 3 7 6 5 1 9 8 5 6 0 3\n",
      " 7 0 1 5 7 8 6 9 9 8 7 3 5 0 1 0 5 1 0 3 8 6 5 4 3 3 3 4 3 3 0 3 7 4 3 9 5\n",
      " 6 8 9 9 3 0 6 3 2 4 9 5 8 4 5 1 1 8 3 0 3 2 1 7 6 0 8 6 3 4 1 0 4 3 6 8 6\n",
      " 1 5 7 8 1 1 4 8 3 5 7 0 1 4 5 9 8 9 2 3 7 3 0 6 6 1 6 3 2 3 1 9 2 0 2 0 5\n",
      " 3 9 0 8 8 4 3 1 0 1 4 6 2 9 9 1 5 4 8 1 2 2 9 9 5 7 6 7 0 5 6 9 4 0 7 4 1\n",
      " 4 4 6 9 9 0 8 6 9 2 7 7 3 7 3 6 1 8 9 1 1 7 0 6 1 6 9 4 2 9 7 0 1 3 1 4 1\n",
      " 7 8 3 9 7 8 8 7 7 7 3 5 8 5 0 2 9 9 9 6 0 0 2 9 5 8 2 6 4 9 8 9 3 6 3 4 3\n",
      " 4 3 9 7 0 9 2 1 0 2 9 9 1 4 2 6 1 6 4 1 9 8 3 2 4 3 6 1 3 3 4 4 2 4 2 5 4\n",
      " 7 2 3 0 4 2 6 2 0 1 8 7 8 9 7 3 4 1 6 0 3 4 2 7 8 6 5 4 2 6 6 2 0 7 9 0 8\n",
      " 8 7 2 7 0 3 0 5 7 9 1 0 6 8 8 0 9 9 5 9 0 1 0 8 3 4 5 2 9 4 4 6 2 6 2 3 6\n",
      " 6 6 1 9 6 0 9 7 8 6 4 1 7 1 6 9 5 1 7 0 4 1 3 5 9 8 3 6 4 0 5 7 0 1 3 2 8\n",
      " 4 7 1 9 2 4 6 8 1 5 4 2 6 4 2 4 4 0 5 6 5 6 4 9 0 9 0 0 4 6 3 8 7 8 1 2 5\n",
      " 9 1 1 1 5 1 3 4 5 4 6 7 1 5 0 1 3 7 3 8 3 3 4 7 9 3 8 8 6 0 8 5 9 3 8 7 0\n",
      " 8 3 1 4 8 0 6 4 5 5 6 5 8 8 1 5 8 1 7 6 0 1 2 5 2 4 0 0 1 3 4 1 2 5 9 1 6\n",
      " 5 4 9 0 3 7 9 9 9 1 2 8 9 9 6 0 3 4 0 5 0 2 9 8 0 3 6 7 0 6 7 0 7 2 1 7 3\n",
      " 5]\n"
     ]
    },
    {
     "data": {
      "text/plain": [
       "np.float64(0.829)"
      ]
     },
     "execution_count": 28,
     "metadata": {},
     "output_type": "execute_result"
    }
   ],
   "source": [
    "dev_predictions = make_predictions(X_dev, W1, b1, W2, b2)\n",
    "get_accuracy(dev_predictions, Y_dev)"
   ]
  },
  {
   "cell_type": "markdown",
   "id": "f9a818ed-302a-4e1f-8979-72df8ca2298e",
   "metadata": {},
   "source": [
    "*got about 80 percent on dev set* \\\n",
    "This number (+- 2 percent) show a well balanced model in Bias-Variance trade-off"
   ]
  },
  {
   "cell_type": "markdown",
   "id": "90a38cd2-abc6-4fca-bdbe-a7d6ae460aeb",
   "metadata": {},
   "source": [
    "### Look at some example"
   ]
  },
  {
   "cell_type": "code",
   "execution_count": 29,
   "id": "8b86beae-7ec3-4902-ad45-059a8b104b9f",
   "metadata": {},
   "outputs": [],
   "source": [
    "def test_prediction(index, W1, b1, W2, b2):\n",
    "    current_image = X_train[:, index, None]\n",
    "    prediction = make_predictions(X_train[:, index, None], W1, b1, W2, b2)\n",
    "    label = Y_train[index]\n",
    "    print(\"Prediction: \", prediction)\n",
    "    print(\"label: \", label)\n",
    "\n",
    "    current_image = current_image.reshape((28,28)) * 255\n",
    "    plt.gray()\n",
    "    plt.imshow(current_image, interpolation='nearest')\n",
    "    plt.show"
   ]
  },
  {
   "cell_type": "code",
   "execution_count": 64,
   "id": "8d9b43a1-23de-473d-b088-5e334dcfb7b3",
   "metadata": {},
   "outputs": [
    {
     "name": "stdout",
     "output_type": "stream",
     "text": [
      "Prediction:  [2]\n",
      "label:  2\n"
     ]
    },
    {
     "data": {
      "image/png": "[encoded data removed]",
      "text/plain": [
       "<Figure size 640x480 with 1 Axes>"
      ]
     },
     "metadata": {},
     "output_type": "display_data"
    }
   ],
   "source": [
    "test_prediction(1, W1, b1, W2, b2)"
   ]
  },
  {
   "cell_type": "code",
   "execution_count": null,
   "id": "805b1ef2-3776-433c-aa71-0d590960a975",
   "metadata": {},
   "outputs": [],
   "source": []
  }
 ],
 "metadata": {
  "kernelspec": {
   "display_name": "Python 3 (ipykernel)",
   "language": "python",
   "name": "python3"
  },
  "language_info": {
   "codemirror_mode": {
    "name": "ipython",
    "version": 3
   },
   "file_extension": ".py",
   "mimetype": "text/x-python",
   "name": "python",
   "nbconvert_exporter": "python",
   "pygments_lexer": "ipython3",
   "version": "3.13.3"
  }
 },
 "nbformat": 4,
 "nbformat_minor": 5
}
