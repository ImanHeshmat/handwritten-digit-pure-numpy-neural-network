{
 "cells": [
  {
   "cell_type": "code",
   "execution_count": 1,
   "id": "af6e39b0-8dbf-45b5-b7cc-36fba9c97030",
   "metadata": {},
   "outputs": [],
   "source": [
    "import numpy as np\n",
    "import pandas as pd\n",
    "from matplotlib import pyplot as plt"
   ]
  },
  {
   "cell_type": "markdown",
   "id": "b7175c18-d58b-4b47-8fef-e654b74f732f",
   "metadata": {},
   "source": [
    "### Load train dataset"
   ]
  },
  {
   "cell_type": "code",
   "execution_count": 2,
   "id": "b36692ef-3525-4938-9bd6-5bd5ea0068be",
   "metadata": {},
   "outputs": [],
   "source": [
    "data = pd.read_csv(\"../data/train.csv\")"
   ]
  },
  {
   "cell_type": "code",
   "execution_count": 3,
   "id": "48452b7e-f031-43b1-bb69-91935108ed9d",
   "metadata": {},
   "outputs": [
    {
     "data": {
      "text/html": [
       "<div>\n",
       "<style scoped>\n",
       "    .dataframe tbody tr th:only-of-type {\n",
       "        vertical-align: middle;\n",
       "    }\n",
       "\n",
       "    .dataframe tbody tr th {\n",
       "        vertical-align: top;\n",
       "    }\n",
       "\n",
       "    .dataframe thead th {\n",
       "        text-align: right;\n",
       "    }\n",
       "</style>\n",
       "<table border=\"1\" class=\"dataframe\">\n",
       "  <thead>\n",
       "    <tr style=\"text-align: right;\">\n",
       "      <th></th>\n",
       "      <th>label</th>\n",
       "      <th>pixel0</th>\n",
       "      <th>pixel1</th>\n",
       "      <th>pixel2</th>\n",
       "      <th>pixel3</th>\n",
       "      <th>pixel4</th>\n",
       "      <th>pixel5</th>\n",
       "      <th>pixel6</th>\n",
       "      <th>pixel7</th>\n",
       "      <th>pixel8</th>\n",
       "      <th>...</th>\n",
       "      <th>pixel774</th>\n",
       "      <th>pixel775</th>\n",
       "      <th>pixel776</th>\n",
       "      <th>pixel777</th>\n",
       "      <th>pixel778</th>\n",
       "      <th>pixel779</th>\n",
       "      <th>pixel780</th>\n",
       "      <th>pixel781</th>\n",
       "      <th>pixel782</th>\n",
       "      <th>pixel783</th>\n",
       "    </tr>\n",
       "  </thead>\n",
       "  <tbody>\n",
       "    <tr>\n",
       "      <th>0</th>\n",
       "      <td>1</td>\n",
       "      <td>0</td>\n",
       "      <td>0</td>\n",
       "      <td>0</td>\n",
       "      <td>0</td>\n",
       "      <td>0</td>\n",
       "      <td>0</td>\n",
       "      <td>0</td>\n",
       "      <td>0</td>\n",
       "      <td>0</td>\n",
       "      <td>...</td>\n",
       "      <td>0</td>\n",
       "      <td>0</td>\n",
       "      <td>0</td>\n",
       "      <td>0</td>\n",
       "      <td>0</td>\n",
       "      <td>0</td>\n",
       "      <td>0</td>\n",
       "      <td>0</td>\n",
       "      <td>0</td>\n",
       "      <td>0</td>\n",
       "    </tr>\n",
       "    <tr>\n",
       "      <th>1</th>\n",
       "      <td>0</td>\n",
       "      <td>0</td>\n",
       "      <td>0</td>\n",
       "      <td>0</td>\n",
       "      <td>0</td>\n",
       "      <td>0</td>\n",
       "      <td>0</td>\n",
       "      <td>0</td>\n",
       "      <td>0</td>\n",
       "      <td>0</td>\n",
       "      <td>...</td>\n",
       "      <td>0</td>\n",
       "      <td>0</td>\n",
       "      <td>0</td>\n",
       "      <td>0</td>\n",
       "      <td>0</td>\n",
       "      <td>0</td>\n",
       "      <td>0</td>\n",
       "      <td>0</td>\n",
       "      <td>0</td>\n",
       "      <td>0</td>\n",
       "    </tr>\n",
       "    <tr>\n",
       "      <th>2</th>\n",
       "      <td>1</td>\n",
       "      <td>0</td>\n",
       "      <td>0</td>\n",
       "      <td>0</td>\n",
       "      <td>0</td>\n",
       "      <td>0</td>\n",
       "      <td>0</td>\n",
       "      <td>0</td>\n",
       "      <td>0</td>\n",
       "      <td>0</td>\n",
       "      <td>...</td>\n",
       "      <td>0</td>\n",
       "      <td>0</td>\n",
       "      <td>0</td>\n",
       "      <td>0</td>\n",
       "      <td>0</td>\n",
       "      <td>0</td>\n",
       "      <td>0</td>\n",
       "      <td>0</td>\n",
       "      <td>0</td>\n",
       "      <td>0</td>\n",
       "    </tr>\n",
       "    <tr>\n",
       "      <th>3</th>\n",
       "      <td>4</td>\n",
       "      <td>0</td>\n",
       "      <td>0</td>\n",
       "      <td>0</td>\n",
       "      <td>0</td>\n",
       "      <td>0</td>\n",
       "      <td>0</td>\n",
       "      <td>0</td>\n",
       "      <td>0</td>\n",
       "      <td>0</td>\n",
       "      <td>...</td>\n",
       "      <td>0</td>\n",
       "      <td>0</td>\n",
       "      <td>0</td>\n",
       "      <td>0</td>\n",
       "      <td>0</td>\n",
       "      <td>0</td>\n",
       "      <td>0</td>\n",
       "      <td>0</td>\n",
       "      <td>0</td>\n",
       "      <td>0</td>\n",
       "    </tr>\n",
       "    <tr>\n",
       "      <th>4</th>\n",
       "      <td>0</td>\n",
       "      <td>0</td>\n",
       "      <td>0</td>\n",
       "      <td>0</td>\n",
       "      <td>0</td>\n",
       "      <td>0</td>\n",
       "      <td>0</td>\n",
       "      <td>0</td>\n",
       "      <td>0</td>\n",
       "      <td>0</td>\n",
       "      <td>...</td>\n",
       "      <td>0</td>\n",
       "      <td>0</td>\n",
       "      <td>0</td>\n",
       "      <td>0</td>\n",
       "      <td>0</td>\n",
       "      <td>0</td>\n",
       "      <td>0</td>\n",
       "      <td>0</td>\n",
       "      <td>0</td>\n",
       "      <td>0</td>\n",
       "    </tr>\n",
       "  </tbody>\n",
       "</table>\n",
       "<p>5 rows × 785 columns</p>\n",
       "</div>"
      ],
      "text/plain": [
       "   label  pixel0  pixel1  pixel2  pixel3  pixel4  pixel5  pixel6  pixel7  \\\n",
       "0      1       0       0       0       0       0       0       0       0   \n",
       "1      0       0       0       0       0       0       0       0       0   \n",
       "2      1       0       0       0       0       0       0       0       0   \n",
       "3      4       0       0       0       0       0       0       0       0   \n",
       "4      0       0       0       0       0       0       0       0       0   \n",
       "\n",
       "   pixel8  ...  pixel774  pixel775  pixel776  pixel777  pixel778  pixel779  \\\n",
       "0       0  ...         0         0         0         0         0         0   \n",
       "1       0  ...         0         0         0         0         0         0   \n",
       "2       0  ...         0         0         0         0         0         0   \n",
       "3       0  ...         0         0         0         0         0         0   \n",
       "4       0  ...         0         0         0         0         0         0   \n",
       "\n",
       "   pixel780  pixel781  pixel782  pixel783  \n",
       "0         0         0         0         0  \n",
       "1         0         0         0         0  \n",
       "2         0         0         0         0  \n",
       "3         0         0         0         0  \n",
       "4         0         0         0         0  \n",
       "\n",
       "[5 rows x 785 columns]"
      ]
     },
     "execution_count": 3,
     "metadata": {},
     "output_type": "execute_result"
    }
   ],
   "source": [
    "data.head()"
   ]
  },
  {
   "cell_type": "code",
   "execution_count": 4,
   "id": "d88ed3fb-70b4-4e6c-af1f-37a817e120ba",
   "metadata": {},
   "outputs": [],
   "source": [
    "data = np.array(data)\n",
    "m, n = data.shape\n",
    "np.random.shuffle(data) # shuffle before splitting into training and dev sets"
   ]
  },
  {
   "cell_type": "code",
   "execution_count": 5,
   "id": "9b902757-42a8-4d13-be61-16346c1574fa",
   "metadata": {},
   "outputs": [
    {
     "data": {
      "text/plain": [
       "array([[5, 0, 0, ..., 0, 0, 0],\n",
       "       [2, 0, 0, ..., 0, 0, 0],\n",
       "       [2, 0, 0, ..., 0, 0, 0],\n",
       "       ...,\n",
       "       [9, 0, 0, ..., 0, 0, 0],\n",
       "       [0, 0, 0, ..., 0, 0, 0],\n",
       "       [8, 0, 0, ..., 0, 0, 0]], shape=(42000, 785))"
      ]
     },
     "execution_count": 5,
     "metadata": {},
     "output_type": "execute_result"
    }
   ],
   "source": [
    "data"
   ]
  },
  {
   "cell_type": "markdown",
   "id": "becb1378-5581-4f10-8765-a34f6faaa14b",
   "metadata": {},
   "source": [
    "#### Dev set"
   ]
  },
  {
   "cell_type": "code",
   "execution_count": 6,
   "id": "960ba75a-c128-450a-a615-3d035d431214",
   "metadata": {},
   "outputs": [],
   "source": [
    "data_dev = data[0:1000].T # T for transposing as each column is number features\n",
    "Y_dev = data_dev[0]\n",
    "X_dev = data_dev[1:n]\n",
    "X_dev = X_dev / 255. # scaling X between 0 and 1"
   ]
  },
  {
   "cell_type": "code",
   "execution_count": 7,
   "id": "01378902-e472-4e21-b2a4-bca07dfc1634",
   "metadata": {},
   "outputs": [
    {
     "name": "stdout",
     "output_type": "stream",
     "text": [
      "(784, 1000)\n"
     ]
    },
    {
     "data": {
      "text/plain": [
       "array([[0., 0., 0., ..., 0., 0., 0.],\n",
       "       [0., 0., 0., ..., 0., 0., 0.],\n",
       "       [0., 0., 0., ..., 0., 0., 0.],\n",
       "       ...,\n",
       "       [0., 0., 0., ..., 0., 0., 0.],\n",
       "       [0., 0., 0., ..., 0., 0., 0.],\n",
       "       [0., 0., 0., ..., 0., 0., 0.]], shape=(10, 1000))"
      ]
     },
     "execution_count": 7,
     "metadata": {},
     "output_type": "execute_result"
    }
   ],
   "source": [
    "print(X_dev.shape)\n",
    "X_dev[:10]"
   ]
  },
  {
   "cell_type": "code",
   "execution_count": 8,
   "id": "fd913606-7b5b-4a78-85e1-9f5f19f31c25",
   "metadata": {},
   "outputs": [
    {
     "name": "stdout",
     "output_type": "stream",
     "text": [
      "(1000,)\n"
     ]
    },
    {
     "data": {
      "text/plain": [
       "array([5, 2, 2, 7, 7, 0, 5, 8, 7, 9])"
      ]
     },
     "execution_count": 8,
     "metadata": {},
     "output_type": "execute_result"
    }
   ],
   "source": [
    "print(Y_dev.shape)\n",
    "Y_dev[:10]"
   ]
  },
  {
   "cell_type": "markdown",
   "id": "bc389356-cd23-4878-ae68-b96c077540e2",
   "metadata": {},
   "source": [
    "#### Training set"
   ]
  },
  {
   "cell_type": "code",
   "execution_count": 9,
   "id": "b0bd60ca-bf6f-4742-8080-b26061207b72",
   "metadata": {},
   "outputs": [],
   "source": [
    "data_train = data[1000:m].T\n",
    "Y_train = data_train[0]\n",
    "X_train = data_train[1:n]\n",
    "X_train = X_train / 255.\n",
    "_, m_train = X_train.shape"
   ]
  },
  {
   "cell_type": "code",
   "execution_count": 10,
   "id": "54c408de-0b3a-4a09-bb5a-b1303ccddd81",
   "metadata": {},
   "outputs": [
    {
     "name": "stdout",
     "output_type": "stream",
     "text": [
      "(784, 41000)\n"
     ]
    },
    {
     "data": {
      "text/plain": [
       "array([[0., 0., 0., ..., 0., 0., 0.],\n",
       "       [0., 0., 0., ..., 0., 0., 0.],\n",
       "       [0., 0., 0., ..., 0., 0., 0.],\n",
       "       ...,\n",
       "       [0., 0., 0., ..., 0., 0., 0.],\n",
       "       [0., 0., 0., ..., 0., 0., 0.],\n",
       "       [0., 0., 0., ..., 0., 0., 0.]], shape=(10, 41000))"
      ]
     },
     "execution_count": 10,
     "metadata": {},
     "output_type": "execute_result"
    }
   ],
   "source": [
    "print(X_train.shape)\n",
    "X_train[:10]"
   ]
  },
  {
   "cell_type": "code",
   "execution_count": 11,
   "id": "29427db3-f948-4388-a040-75c0840d0d24",
   "metadata": {},
   "outputs": [
    {
     "name": "stdout",
     "output_type": "stream",
     "text": [
      "(41000,)\n"
     ]
    },
    {
     "data": {
      "text/plain": [
       "array([0, 3, 8, 7, 7, 1, 2, 7, 6, 5])"
      ]
     },
     "execution_count": 11,
     "metadata": {},
     "output_type": "execute_result"
    }
   ],
   "source": [
    "print(Y_train.shape)\n",
    "Y_train[:10]"
   ]
  },
  {
   "cell_type": "markdown",
   "id": "13b98704-988e-4fdd-bced-c59ea4527a73",
   "metadata": {},
   "source": [
    "### Define our Neural Network"
   ]
  },
  {
   "cell_type": "markdown",
   "id": "fe3c814a-e5ed-49eb-aacc-9b0c57970e61",
   "metadata": {},
   "source": [
    "Our NN will have a simple two-layer architecture. Input layer a<sup>[0]</sup> will have 784 units corresponding to the 784 pixels in each 28x28 input image. A hidden layer  𝑎<sup>[1]</sup>\n",
    "  will have 10 units with ReLU activation, and finally our output layer  𝑎<sup>[2]</sup>\n",
    "  will have 10 units corresponding to the ten digit classes with softmax activation."
   ]
  },
  {
   "cell_type": "markdown",
   "id": "fa26fb9d-e58d-4761-901d-ef756b6894d7",
   "metadata": {},
   "source": [
    "**Forward propagation**\n",
    "\n",
    "$Z^{[1]} = W^{[1]}X + b^{[1]}$\n",
    "\n",
    "$A^{[1]} = g_{ReLU}(Z^{[1]})$\n",
    "\n",
    "$Z^{[2]} = W^{[2]}A^{[1]} + b^{[2]}$\n",
    "\n",
    "$A^{[2]} = g_{softmax}(Z^{[2]})$\n",
    "\n",
    "**Backward propagation**\n",
    "\n",
    "$dZ^{[2]} = A^{[2]} - Y$\n",
    "\n",
    "$dW^{[2]} = \\frac{1}{m} dZ^{[2]} A^{[1]T}$\n",
    "\n",
    "$dB^{[2]} = \\frac{1}{m} \\Sigma dZ^{[2]}$\n",
    "\n",
    "$dZ^{[1]} = W^{[2]T} dZ^{[2]} \\cdot* g^{[1]'}(z^{[1]})$\n",
    "\n",
    "$dW^{[1]} = \\frac{1}{m} dZ^{[1]} A^{[0]T}$\n",
    "\n",
    "$dB^{[1]} = \\frac{1}{m} \\Sigma dZ^{[1]}$\n",
    "\n",
    "**Parameter updates**\n",
    "\n",
    "$W^{[2]} := W^{[2]} - \\alpha dW^{[2]}$\n",
    "\n",
    "$b^{[2]} := b^{[2]} - \\alpha db^{[2]}$\n",
    "\n",
    "$W^{[1]} := W^{[1]} - \\alpha dW^{[1]}$\n",
    "\n",
    "$b^{[1]} := b^{[1]} - \\alpha db^{[1]}$"
   ]
  },
  {
   "cell_type": "markdown",
   "id": "a9710b28-14e9-4ef4-869e-e2764aa95a9b",
   "metadata": {},
   "source": [
    "### Vars and shapes\n",
    "\n",
    "**Forward prop**\n",
    "\n",
    "- $A^{[0]} = X$: 784 x m\n",
    "\n",
    "- $Z^{[1]} \\sim A^{[1]}$: 10 x m\n",
    "\n",
    "- $W^{[1]}$: 10 x 784 (as $W^{[1]}A^{[0]} \\sim Z^{[1]}$)\n",
    "\n",
    "- $B^{[1]}$: 10 x 1\n",
    "\n",
    "- $Z^{[2]} \\sim A^{[2]}$: 10 x m\n",
    "\n",
    "- $W^{[2]}$: 10 x 10 (as $W^{[2]}A^{[1]} \\sim Z^{[2]}$)\n",
    "\n",
    "- $B^{[2]}$: 10 x 1\n",
    "\n",
    "**Backprop**\n",
    "\n",
    "- $dZ^{[2]}$: 10 x m ($A^{[2]}$)\n",
    "\n",
    "- $dW^{[2]}$: 10 x 10\n",
    "\n",
    "- $dB^{[2]}$: 10 x 1\n",
    "\n",
    "- $dZ^{[1]}$: 10 x m ($A^{[1]}$)\n",
    "\n",
    "- $dW^{[1]}$: 10 x 784\n",
    "\n",
    "- $dB^{[1]}$: 10 x 1"
   ]
  },
  {
   "cell_type": "markdown",
   "id": "221d7ba1-4965-4a18-b702-aafe183437ed",
   "metadata": {},
   "source": [
    "#### Forward Prop"
   ]
  },
  {
   "cell_type": "code",
   "execution_count": 12,
   "id": "41b546db-083b-41c2-910f-c8bfe9c1d774",
   "metadata": {},
   "outputs": [],
   "source": [
    "def init_params():\n",
    "    W1 = np.random.rand(10, 784) - 0.5\n",
    "    b1 = np.random.rand(10, 1) - 0.5\n",
    "    W2 = np.random.rand(10, 10) - 0.5\n",
    "    b2 = np.random.rand(10, 1) - 0.5\n",
    "    return W1, b1, W2, b2"
   ]
  },
  {
   "cell_type": "code",
   "execution_count": 13,
   "id": "2d6ba4eb-831d-46f7-ab1a-b5f39b8e8fe0",
   "metadata": {},
   "outputs": [],
   "source": [
    "def ReLU(Z):\n",
    "    return np.maximum(Z, 0)"
   ]
  },
  {
   "cell_type": "code",
   "execution_count": 14,
   "id": "64eb36de-0644-4eff-88c4-2e0735b85eaf",
   "metadata": {},
   "outputs": [],
   "source": [
    "def softmax(Z):\n",
    "    A = np.exp(Z) / sum(np.exp(Z))\n",
    "    return A"
   ]
  },
  {
   "cell_type": "code",
   "execution_count": 15,
   "id": "eef73f57-3895-4ed8-9f3d-1e12b5aaee05",
   "metadata": {},
   "outputs": [],
   "source": [
    "def forward_prop(W1, b1, W2, b2, X):\n",
    "    Z1 = W1.dot(X) + b1\n",
    "    A1 = ReLU(Z1)\n",
    "    Z2 = W2.dot(A1) + b2\n",
    "    A2 = softmax(Z2)\n",
    "    return Z1, A1, Z2, A2"
   ]
  },
  {
   "cell_type": "markdown",
   "id": "b698a542-4fec-4b5d-b901-4ac06d5be9d0",
   "metadata": {},
   "source": [
    "#### Backward Prop"
   ]
  },
  {
   "cell_type": "code",
   "execution_count": 16,
   "id": "bf4ad2bb-62bd-442e-ad7d-e43bfe433301",
   "metadata": {},
   "outputs": [],
   "source": [
    "def one_hot(Y):\n",
    "    one_hot_Y = np.zeros((Y.size, Y.max()+1 ))\n",
    "    one_hot_Y[np.arange(Y.size), Y] = 1  # places a 1 in the correct column (representing the class label) for each row (representing a data point).\n",
    "    one_hot_Y = one_hot_Y.T  # now each row of one_hot_Y corresponds to a class, and each column corresponds to a data point\n",
    "    return one_hot_Y"
   ]
  },
  {
   "cell_type": "code",
   "execution_count": 17,
   "id": "c18885e4-6442-4b0d-a928-1964131500b1",
   "metadata": {},
   "outputs": [],
   "source": [
    "def ReLU_deriv(Z):\n",
    "    return Z > 0  # This will output 1 if Z bigger that zero (relu in positive side of x axis) and 0 if not (remember relu function shape for better intuition)"
   ]
  },
  {
   "cell_type": "code",
   "execution_count": 18,
   "id": "fbc74e2d-6f4e-4664-8375-476c6af11744",
   "metadata": {},
   "outputs": [],
   "source": [
    "def backward_prop(Z1, A1, Z2, A2, W1, W2, X, Y):\n",
    "    one_hot_Y = one_hot(Y)\n",
    "    dZ2 = A2 - one_hot_Y\n",
    "    dW2 = 1 / m * dZ2.dot(A1.T)\n",
    "    db2 = 1 / m * np.sum(dZ2)\n",
    "    dZ1 = W2.T.dot(dZ2 * ReLU_deriv(Z1))\n",
    "    dW1 = 1 / m * dZ1.dot(X.T)\n",
    "    db1 = 1 / m * np.sum(dZ1)\n",
    "    return dW1, db1, dW2, db2"
   ]
  },
  {
   "cell_type": "code",
   "execution_count": 19,
   "id": "1d4d5fcd-c7c1-4332-b122-12dd3fd391c1",
   "metadata": {},
   "outputs": [],
   "source": [
    "def update_params(W1, b1, W2, b2, dW1, db1, dW2, db2, alpha):\n",
    "    # our tiny steps down the hill\n",
    "    W1 = W1 - alpha * dW1\n",
    "    b1 = b1 - alpha * db1\n",
    "    W2 = W2 - alpha * dW2\n",
    "    b2 = b2 - alpha * db2\n",
    "    return W1, b1, W2, b2"
   ]
  },
  {
   "cell_type": "code",
   "execution_count": 20,
   "id": "8caaa246-093e-492f-b195-426518ec0822",
   "metadata": {},
   "outputs": [],
   "source": [
    "def get_predictions(A2):\n",
    "    # return max value afte our softmax\n",
    "    return np.argmax(A2, 0)"
   ]
  },
  {
   "cell_type": "code",
   "execution_count": 21,
   "id": "91193604-de72-43ef-956f-2c8e654d660e",
   "metadata": {},
   "outputs": [],
   "source": [
    "def get_accuracy(predictions, Y):\n",
    "    # For printing accuracy of model through iterations\n",
    "    print(predictions, Y) #pring model output Ys and Y_hat (real Ys)\n",
    "    return np.sum(predictions == Y) / Y.size"
   ]
  },
  {
   "cell_type": "code",
   "execution_count": 22,
   "id": "724322f3-3de3-4fe2-bb51-d17cec34a629",
   "metadata": {},
   "outputs": [],
   "source": [
    "def gradient_descent(X, Y, iterations, alpha):\n",
    "    # Walking Down The Hill\n",
    "    W1, b1, W2, b2 = init_params()\n",
    "    for i in range(iterations):\n",
    "        Z1, A1, Z2, A2 = forward_prop(W1, b1, W2, b2, X)\n",
    "        dW1, db1, dW2, db2 = backward_prop(Z1, A1, Z2, A2, W1, W2, X, Y)\n",
    "        W1, b1, W2, b2 = update_params(W1, b1, W2, b2, dW1, db1, dW2, db2, alpha)\n",
    "        if (i % 10 == 0): # printing model results every 10th iteration\n",
    "            print(\"Iteration: \", i)\n",
    "            print(\"Accuracy: \", get_accuracy(get_predictions(A2), Y), \"\\n\")\n",
    "    return W1, b1, W2, b2"
   ]
  },
  {
   "cell_type": "markdown",
   "id": "0e867b96-a563-448c-9713-b752fd0cc2a5",
   "metadata": {},
   "source": [
    "#### Let's Train"
   ]
  },
  {
   "cell_type": "code",
   "execution_count": 23,
   "id": "4a1cdc9a-8883-45f3-962c-acf802d3f3df",
   "metadata": {},
   "outputs": [
    {
     "name": "stdout",
     "output_type": "stream",
     "text": [
      "Iteration:  0\n",
      "[9 9 9 ... 4 9 9] [0 3 8 ... 9 0 8]\n",
      "Accuracy:  0.0887560975609756 \n",
      "\n",
      "Iteration:  10\n",
      "[2 0 0 ... 4 0 0] [0 3 8 ... 9 0 8]\n",
      "Accuracy:  0.19953658536585367 \n",
      "\n",
      "Iteration:  20\n",
      "[2 8 0 ... 4 0 0] [0 3 8 ... 9 0 8]\n",
      "Accuracy:  0.27526829268292685 \n",
      "\n",
      "Iteration:  30\n",
      "[2 8 8 ... 4 0 0] [0 3 8 ... 9 0 8]\n",
      "Accuracy:  0.34051219512195124 \n",
      "\n",
      "Iteration:  40\n",
      "[2 8 8 ... 4 0 8] [0 3 8 ... 9 0 8]\n",
      "Accuracy:  0.3880487804878049 \n",
      "\n",
      "Iteration:  50\n",
      "[2 8 8 ... 4 0 8] [0 3 8 ... 9 0 8]\n",
      "Accuracy:  0.43146341463414634 \n",
      "\n",
      "Iteration:  60\n",
      "[2 8 8 ... 4 8 8] [0 3 8 ... 9 0 8]\n",
      "Accuracy:  0.46482926829268295 \n",
      "\n",
      "Iteration:  70\n",
      "[2 8 8 ... 9 8 3] [0 3 8 ... 9 0 8]\n",
      "Accuracy:  0.49614634146341463 \n",
      "\n",
      "Iteration:  80\n",
      "[2 3 8 ... 9 8 3] [0 3 8 ... 9 0 8]\n",
      "Accuracy:  0.5247804878048781 \n",
      "\n",
      "Iteration:  90\n",
      "[2 3 8 ... 9 8 3] [0 3 8 ... 9 0 8]\n",
      "Accuracy:  0.5493414634146342 \n",
      "\n",
      "Iteration:  100\n",
      "[2 3 8 ... 9 8 3] [0 3 8 ... 9 0 8]\n",
      "Accuracy:  0.5701219512195121 \n",
      "\n",
      "Iteration:  110\n",
      "[2 3 8 ... 9 0 3] [0 3 8 ... 9 0 8]\n",
      "Accuracy:  0.5905121951219512 \n",
      "\n",
      "Iteration:  120\n",
      "[2 5 8 ... 9 0 3] [0 3 8 ... 9 0 8]\n",
      "Accuracy:  0.6088536585365854 \n",
      "\n",
      "Iteration:  130\n",
      "[2 5 8 ... 9 0 3] [0 3 8 ... 9 0 8]\n",
      "Accuracy:  0.6255121951219512 \n",
      "\n",
      "Iteration:  140\n",
      "[2 3 8 ... 9 0 3] [0 3 8 ... 9 0 8]\n",
      "Accuracy:  0.6401951219512195 \n",
      "\n",
      "Iteration:  150\n",
      "[0 3 8 ... 9 0 3] [0 3 8 ... 9 0 8]\n",
      "Accuracy:  0.6547560975609756 \n",
      "\n",
      "Iteration:  160\n",
      "[0 3 8 ... 9 0 8] [0 3 8 ... 9 0 8]\n",
      "Accuracy:  0.6686829268292683 \n",
      "\n",
      "Iteration:  170\n",
      "[0 3 8 ... 9 0 8] [0 3 8 ... 9 0 8]\n",
      "Accuracy:  0.6790487804878049 \n",
      "\n",
      "Iteration:  180\n",
      "[0 3 8 ... 9 0 8] [0 3 8 ... 9 0 8]\n",
      "Accuracy:  0.6889024390243902 \n",
      "\n",
      "Iteration:  190\n",
      "[0 3 8 ... 9 0 8] [0 3 8 ... 9 0 8]\n",
      "Accuracy:  0.6976341463414634 \n",
      "\n",
      "Iteration:  200\n",
      "[0 3 8 ... 9 0 8] [0 3 8 ... 9 0 8]\n",
      "Accuracy:  0.7051463414634146 \n",
      "\n",
      "Iteration:  210\n",
      "[0 3 8 ... 9 0 8] [0 3 8 ... 9 0 8]\n",
      "Accuracy:  0.7120975609756097 \n",
      "\n",
      "Iteration:  220\n",
      "[0 3 8 ... 9 0 8] [0 3 8 ... 9 0 8]\n",
      "Accuracy:  0.7181219512195122 \n",
      "\n",
      "Iteration:  230\n",
      "[0 3 8 ... 9 0 8] [0 3 8 ... 9 0 8]\n",
      "Accuracy:  0.7233170731707317 \n",
      "\n",
      "Iteration:  240\n",
      "[0 3 8 ... 9 0 8] [0 3 8 ... 9 0 8]\n",
      "Accuracy:  0.7283414634146341 \n",
      "\n",
      "Iteration:  250\n",
      "[0 3 8 ... 9 0 8] [0 3 8 ... 9 0 8]\n",
      "Accuracy:  0.7325365853658536 \n",
      "\n",
      "Iteration:  260\n",
      "[0 3 8 ... 9 0 8] [0 3 8 ... 9 0 8]\n",
      "Accuracy:  0.7371219512195122 \n",
      "\n",
      "Iteration:  270\n",
      "[0 3 8 ... 9 0 8] [0 3 8 ... 9 0 8]\n",
      "Accuracy:  0.740780487804878 \n",
      "\n",
      "Iteration:  280\n",
      "[0 3 8 ... 9 0 8] [0 3 8 ... 9 0 8]\n",
      "Accuracy:  0.7443414634146341 \n",
      "\n",
      "Iteration:  290\n",
      "[0 3 8 ... 9 0 8] [0 3 8 ... 9 0 8]\n",
      "Accuracy:  0.7488780487804878 \n",
      "\n",
      "Iteration:  300\n",
      "[0 3 8 ... 9 0 8] [0 3 8 ... 9 0 8]\n",
      "Accuracy:  0.7519756097560976 \n",
      "\n",
      "Iteration:  310\n",
      "[0 3 8 ... 9 0 8] [0 3 8 ... 9 0 8]\n",
      "Accuracy:  0.7554634146341463 \n",
      "\n",
      "Iteration:  320\n",
      "[0 3 8 ... 9 0 8] [0 3 8 ... 9 0 8]\n",
      "Accuracy:  0.7584146341463415 \n",
      "\n",
      "Iteration:  330\n",
      "[0 3 8 ... 9 0 8] [0 3 8 ... 9 0 8]\n",
      "Accuracy:  0.7611463414634146 \n",
      "\n",
      "Iteration:  340\n",
      "[0 3 8 ... 9 0 8] [0 3 8 ... 9 0 8]\n",
      "Accuracy:  0.7637804878048781 \n",
      "\n",
      "Iteration:  350\n",
      "[0 3 8 ... 9 0 8] [0 3 8 ... 9 0 8]\n",
      "Accuracy:  0.7660975609756098 \n",
      "\n",
      "Iteration:  360\n",
      "[0 3 8 ... 9 0 8] [0 3 8 ... 9 0 8]\n",
      "Accuracy:  0.768609756097561 \n",
      "\n",
      "Iteration:  370\n",
      "[0 3 8 ... 9 0 8] [0 3 8 ... 9 0 8]\n",
      "Accuracy:  0.7708048780487805 \n",
      "\n",
      "Iteration:  380\n",
      "[0 3 8 ... 9 0 8] [0 3 8 ... 9 0 8]\n",
      "Accuracy:  0.7729756097560976 \n",
      "\n",
      "Iteration:  390\n",
      "[0 3 8 ... 9 0 8] [0 3 8 ... 9 0 8]\n",
      "Accuracy:  0.775 \n",
      "\n",
      "Iteration:  400\n",
      "[0 3 8 ... 9 0 8] [0 3 8 ... 9 0 8]\n",
      "Accuracy:  0.7766829268292683 \n",
      "\n",
      "Iteration:  410\n",
      "[0 3 8 ... 9 0 8] [0 3 8 ... 9 0 8]\n",
      "Accuracy:  0.7788780487804878 \n",
      "\n",
      "Iteration:  420\n",
      "[0 3 8 ... 9 0 8] [0 3 8 ... 9 0 8]\n",
      "Accuracy:  0.7811219512195122 \n",
      "\n",
      "Iteration:  430\n",
      "[0 3 8 ... 9 0 8] [0 3 8 ... 9 0 8]\n",
      "Accuracy:  0.7824878048780488 \n",
      "\n",
      "Iteration:  440\n",
      "[0 3 8 ... 9 0 8] [0 3 8 ... 9 0 8]\n",
      "Accuracy:  0.7840243902439025 \n",
      "\n",
      "Iteration:  450\n",
      "[0 3 8 ... 9 0 8] [0 3 8 ... 9 0 8]\n",
      "Accuracy:  0.7847317073170732 \n",
      "\n",
      "Iteration:  460\n",
      "[0 3 8 ... 9 0 8] [0 3 8 ... 9 0 8]\n",
      "Accuracy:  0.7856829268292683 \n",
      "\n",
      "Iteration:  470\n",
      "[0 3 8 ... 9 0 8] [0 3 8 ... 9 0 8]\n",
      "Accuracy:  0.7868048780487805 \n",
      "\n",
      "Iteration:  480\n",
      "[0 3 8 ... 9 0 8] [0 3 8 ... 9 0 8]\n",
      "Accuracy:  0.7880243902439025 \n",
      "\n",
      "Iteration:  490\n",
      "[0 3 8 ... 9 0 8] [0 3 8 ... 9 0 8]\n",
      "Accuracy:  0.7890487804878049 \n",
      "\n",
      "Iteration:  500\n",
      "[0 3 8 ... 9 0 8] [0 3 8 ... 9 0 8]\n",
      "Accuracy:  0.79 \n",
      "\n",
      "Iteration:  510\n",
      "[0 3 8 ... 9 0 8] [0 3 8 ... 9 0 8]\n",
      "Accuracy:  0.7910243902439025 \n",
      "\n",
      "Iteration:  520\n",
      "[0 3 8 ... 9 0 8] [0 3 8 ... 9 0 8]\n",
      "Accuracy:  0.7920487804878049 \n",
      "\n",
      "Iteration:  530\n",
      "[0 3 8 ... 9 0 8] [0 3 8 ... 9 0 8]\n",
      "Accuracy:  0.7927317073170732 \n",
      "\n",
      "Iteration:  540\n",
      "[0 3 8 ... 9 0 8] [0 3 8 ... 9 0 8]\n",
      "Accuracy:  0.7933414634146342 \n",
      "\n",
      "Iteration:  550\n",
      "[0 3 8 ... 9 0 8] [0 3 8 ... 9 0 8]\n",
      "Accuracy:  0.7939756097560976 \n",
      "\n",
      "Iteration:  560\n",
      "[0 3 8 ... 9 0 8] [0 3 8 ... 9 0 8]\n",
      "Accuracy:  0.7947560975609756 \n",
      "\n",
      "Iteration:  570\n",
      "[0 3 8 ... 9 0 8] [0 3 8 ... 9 0 8]\n",
      "Accuracy:  0.795219512195122 \n",
      "\n",
      "Iteration:  580\n",
      "[0 3 8 ... 9 0 8] [0 3 8 ... 9 0 8]\n",
      "Accuracy:  0.796 \n",
      "\n",
      "Iteration:  590\n",
      "[0 3 8 ... 9 0 8] [0 3 8 ... 9 0 8]\n",
      "Accuracy:  0.7962439024390244 \n",
      "\n",
      "Iteration:  600\n",
      "[0 3 8 ... 9 0 8] [0 3 8 ... 9 0 8]\n",
      "Accuracy:  0.7965609756097561 \n",
      "\n",
      "Iteration:  610\n",
      "[0 3 8 ... 9 0 8] [0 3 8 ... 9 0 8]\n",
      "Accuracy:  0.7976341463414635 \n",
      "\n",
      "Iteration:  620\n",
      "[0 3 8 ... 9 0 8] [0 3 8 ... 9 0 8]\n",
      "Accuracy:  0.7982926829268293 \n",
      "\n",
      "Iteration:  630\n",
      "[0 3 8 ... 9 0 8] [0 3 8 ... 9 0 8]\n",
      "Accuracy:  0.7982926829268293 \n",
      "\n",
      "Iteration:  640\n",
      "[0 3 8 ... 9 0 8] [0 3 8 ... 9 0 8]\n",
      "Accuracy:  0.798609756097561 \n",
      "\n",
      "Iteration:  650\n",
      "[0 3 8 ... 9 0 8] [0 3 8 ... 9 0 8]\n",
      "Accuracy:  0.7991707317073171 \n",
      "\n",
      "Iteration:  660\n",
      "[0 3 8 ... 9 0 8] [0 3 8 ... 9 0 8]\n",
      "Accuracy:  0.799219512195122 \n",
      "\n",
      "Iteration:  670\n",
      "[0 3 8 ... 9 0 8] [0 3 8 ... 9 0 8]\n",
      "Accuracy:  0.7993658536585366 \n",
      "\n",
      "Iteration:  680\n",
      "[0 3 8 ... 9 0 8] [0 3 8 ... 9 0 8]\n",
      "Accuracy:  0.7997804878048781 \n",
      "\n",
      "Iteration:  690\n",
      "[0 3 8 ... 9 0 8] [0 3 8 ... 9 0 8]\n",
      "Accuracy:  0.8 \n",
      "\n",
      "Iteration:  700\n",
      "[0 3 8 ... 9 0 8] [0 3 8 ... 9 0 8]\n",
      "Accuracy:  0.8001707317073171 \n",
      "\n",
      "Iteration:  710\n",
      "[0 3 8 ... 9 0 8] [0 3 8 ... 9 0 8]\n",
      "Accuracy:  0.8003658536585366 \n",
      "\n",
      "Iteration:  720\n",
      "[0 3 8 ... 9 0 8] [0 3 8 ... 9 0 8]\n",
      "Accuracy:  0.8006341463414635 \n",
      "\n",
      "Iteration:  730\n",
      "[0 3 8 ... 9 0 8] [0 3 8 ... 9 0 8]\n",
      "Accuracy:  0.8010975609756098 \n",
      "\n",
      "Iteration:  740\n",
      "[0 3 8 ... 9 0 8] [0 3 8 ... 9 0 8]\n",
      "Accuracy:  0.8015121951219513 \n",
      "\n",
      "Iteration:  750\n",
      "[0 3 8 ... 9 0 8] [0 3 8 ... 9 0 8]\n",
      "Accuracy:  0.8017317073170732 \n",
      "\n",
      "Iteration:  760\n",
      "[0 3 8 ... 9 0 8] [0 3 8 ... 9 0 8]\n",
      "Accuracy:  0.8019268292682927 \n",
      "\n",
      "Iteration:  770\n",
      "[0 3 8 ... 9 0 8] [0 3 8 ... 9 0 8]\n",
      "Accuracy:  0.8017804878048781 \n",
      "\n",
      "Iteration:  780\n",
      "[0 3 8 ... 9 0 8] [0 3 8 ... 9 0 8]\n",
      "Accuracy:  0.8017804878048781 \n",
      "\n",
      "Iteration:  790\n",
      "[0 3 8 ... 9 0 8] [0 3 8 ... 9 0 8]\n",
      "Accuracy:  0.8021951219512196 \n",
      "\n",
      "Iteration:  800\n",
      "[0 3 8 ... 9 0 8] [0 3 8 ... 9 0 8]\n",
      "Accuracy:  0.8021219512195122 \n",
      "\n",
      "Iteration:  810\n",
      "[0 3 8 ... 9 0 8] [0 3 8 ... 9 0 8]\n",
      "Accuracy:  0.8020975609756098 \n",
      "\n",
      "Iteration:  820\n",
      "[0 3 8 ... 9 0 8] [0 3 8 ... 9 0 8]\n",
      "Accuracy:  0.8021951219512196 \n",
      "\n",
      "Iteration:  830\n",
      "[0 3 8 ... 9 0 8] [0 3 8 ... 9 0 8]\n",
      "Accuracy:  0.801829268292683 \n",
      "\n",
      "Iteration:  840\n",
      "[0 3 8 ... 9 0 8] [0 3 8 ... 9 0 8]\n",
      "Accuracy:  0.8014634146341464 \n",
      "\n",
      "Iteration:  850\n",
      "[0 3 8 ... 8 0 8] [0 3 8 ... 9 0 8]\n",
      "Accuracy:  0.8011707317073171 \n",
      "\n",
      "Iteration:  860\n",
      "[0 3 8 ... 8 0 8] [0 3 8 ... 9 0 8]\n",
      "Accuracy:  0.8008536585365854 \n",
      "\n",
      "Iteration:  870\n",
      "[0 3 8 ... 8 0 8] [0 3 8 ... 9 0 8]\n",
      "Accuracy:  0.8007317073170732 \n",
      "\n",
      "Iteration:  880\n",
      "[0 3 8 ... 8 0 8] [0 3 8 ... 9 0 8]\n",
      "Accuracy:  0.8003902439024391 \n",
      "\n",
      "Iteration:  890\n",
      "[0 3 8 ... 8 0 8] [0 3 8 ... 9 0 8]\n",
      "Accuracy:  0.8 \n",
      "\n",
      "Iteration:  900\n",
      "[0 3 8 ... 8 0 8] [0 3 8 ... 9 0 8]\n",
      "Accuracy:  0.8000487804878049 \n",
      "\n",
      "Iteration:  910\n",
      "[0 3 8 ... 8 0 8] [0 3 8 ... 9 0 8]\n",
      "Accuracy:  0.7999512195121952 \n",
      "\n",
      "Iteration:  920\n",
      "[0 3 8 ... 9 0 8] [0 3 8 ... 9 0 8]\n",
      "Accuracy:  0.7994878048780488 \n",
      "\n",
      "Iteration:  930\n",
      "[0 3 8 ... 9 0 8] [0 3 8 ... 9 0 8]\n",
      "Accuracy:  0.7995365853658537 \n",
      "\n",
      "Iteration:  940\n",
      "[0 3 8 ... 9 0 8] [0 3 8 ... 9 0 8]\n",
      "Accuracy:  0.7995853658536586 \n",
      "\n",
      "Iteration:  950\n",
      "[0 3 8 ... 9 0 8] [0 3 8 ... 9 0 8]\n",
      "Accuracy:  0.7994634146341464 \n",
      "\n",
      "Iteration:  960\n",
      "[0 3 8 ... 9 0 8] [0 3 8 ... 9 0 8]\n",
      "Accuracy:  0.7993170731707318 \n",
      "\n",
      "Iteration:  970\n",
      "[0 3 8 ... 9 0 8] [0 3 8 ... 9 0 8]\n",
      "Accuracy:  0.799219512195122 \n",
      "\n",
      "Iteration:  980\n",
      "[0 3 8 ... 9 0 8] [0 3 8 ... 9 0 8]\n",
      "Accuracy:  0.7989756097560976 \n",
      "\n",
      "Iteration:  990\n",
      "[0 3 8 ... 9 0 8] [0 3 8 ... 9 0 8]\n",
      "Accuracy:  0.7989756097560976 \n",
      "\n"
     ]
    }
   ],
   "source": [
    "W1, b1, W2, b2 = gradient_descent(X_train, Y_train, 1000, 0.10)"
   ]
  },
  {
   "cell_type": "markdown",
   "id": "1b992e18-3efa-478a-94ff-5e8685669200",
   "metadata": {},
   "source": [
    "*with 1000 iterations the model accuracy is about 80 percent * \\\n",
    "ps: my neural network architecture could be more complex with more layers and neurons (right now my model is high bias compare to state of the art handwritten digit recognition neural networks) \\\n",
    "or even using CNN, vision-transformers and etc but I wanted to build a neural network from scratch with raw algebra and math for educational purposes and gain better intuition about neural networks"
   ]
  },
  {
   "cell_type": "markdown",
   "id": "202a1175-cc9f-41d5-baef-0ddfeec9b763",
   "metadata": {},
   "source": [
    "### Test the model on dev set"
   ]
  },
  {
   "cell_type": "code",
   "execution_count": 24,
   "id": "7fd8e793-c700-410d-a8f2-43a7859b3804",
   "metadata": {},
   "outputs": [],
   "source": [
    "def make_predictions(X, W1, b1, W2, b2):\n",
    "    _, _, _, A2 = forward_prop(W1, b1, W2, b2, X)\n",
    "    predictions = get_predictions(A2)\n",
    "    return predictions"
   ]
  },
  {
   "cell_type": "code",
   "execution_count": 25,
   "id": "51cb4b7b-ef59-4588-8475-fa904122b66d",
   "metadata": {},
   "outputs": [
    {
     "name": "stdout",
     "output_type": "stream",
     "text": [
      "[8 2 2 7 7 0 0 1 7 9 1 5 1 9 9 2 8 3 8 0 2 3 4 6 7 1 8 6 4 3 9 3 6 5 8 7 1\n",
      " 5 2 8 6 9 6 4 1 6 9 2 3 1 5 3 3 9 7 3 3 0 1 3 8 1 4 6 8 2 6 4 4 1 6 9 4 6\n",
      " 3 5 5 7 7 7 9 2 3 9 2 1 7 9 1 3 6 2 1 5 8 8 1 4 2 8 5 0 7 6 7 8 7 3 1 0 4\n",
      " 0 1 8 4 9 1 5 1 3 3 7 9 7 5 7 5 0 6 0 9 5 4 6 2 6 7 1 0 9 5 4 1 1 7 9 8 4\n",
      " 4 9 2 5 3 8 5 1 8 3 0 3 7 9 2 2 2 8 6 9 7 3 6 8 1 2 4 9 4 9 6 7 0 7 5 2 5\n",
      " 9 8 7 3 8 3 6 5 8 1 1 6 6 1 1 2 0 5 1 6 0 3 0 5 7 1 7 1 9 5 3 4 8 8 4 5 6\n",
      " 9 7 3 6 5 0 1 8 3 6 7 2 2 2 8 2 6 3 6 5 2 6 0 7 1 4 0 2 2 4 1 9 7 0 5 5 0\n",
      " 9 5 8 6 7 8 9 2 8 0 3 6 5 8 1 7 8 7 2 0 9 2 2 9 1 8 6 8 9 3 1 0 5 3 5 9 9\n",
      " 4 7 7 1 1 3 8 7 5 5 5 1 8 4 1 4 9 6 3 8 2 0 8 1 1 3 1 7 9 8 6 2 5 4 7 9 5\n",
      " 8 7 9 7 7 5 2 1 5 3 5 7 7 9 9 2 1 0 5 6 2 2 0 9 4 6 5 2 9 2 7 7 8 2 6 5 3\n",
      " 7 3 8 1 2 1 7 0 6 4 9 3 2 4 0 7 4 6 8 7 9 2 4 4 7 2 4 5 3 1 8 5 1 3 4 5 1\n",
      " 0 3 9 9 3 3 2 2 0 4 0 3 8 6 0 5 1 6 1 5 6 8 7 6 8 5 7 0 2 6 0 4 8 4 5 5 5\n",
      " 7 6 6 5 9 8 3 6 5 3 0 4 9 6 0 5 4 9 9 1 4 4 6 8 3 1 2 3 5 1 3 0 6 6 3 4 4\n",
      " 6 9 0 9 2 2 1 4 5 5 6 2 4 5 1 0 5 8 6 1 7 2 2 1 9 8 8 3 7 3 4 2 6 4 0 7 6\n",
      " 1 7 4 5 8 5 5 2 8 8 8 7 7 6 4 3 6 3 6 8 5 2 0 3 8 6 4 7 4 2 4 9 9 2 8 3 2\n",
      " 3 1 2 6 3 9 9 7 5 1 4 3 9 4 3 8 2 7 1 9 1 6 1 8 2 9 8 2 5 6 7 9 8 0 9 0 9\n",
      " 5 7 6 1 9 6 2 7 5 6 7 1 0 1 4 3 3 9 3 4 7 5 4 4 1 3 8 6 7 4 0 3 9 2 4 3 0\n",
      " 0 2 1 9 1 5 9 7 8 6 4 5 2 6 6 0 3 3 8 5 1 0 3 8 7 9 8 9 8 7 5 6 0 3 9 0 9\n",
      " 9 9 8 9 3 4 9 9 0 8 6 7 9 7 3 4 7 8 4 9 0 1 5 8 4 1 2 2 6 1 5 0 3 2 1 9 4\n",
      " 0 1 2 8 4 1 1 2 5 7 3 0 1 8 1 5 3 1 9 3 8 2 3 2 9 5 1 9 7 1 9 0 4 8 9 4 6\n",
      " 7 9 9 6 6 3 8 1 7 6 0 9 1 8 1 9 2 6 5 7 6 0 3 7 1 8 0 7 6 4 5 0 3 6 8 2 8\n",
      " 3 8 7 4 3 6 7 1 0 5 5 9 3 8 2 4 6 2 4 5 0 0 5 3 9 9 1 5 8 5 0 0 8 3 3 0 3\n",
      " 9 3 4 0 0 7 0 9 7 6 8 7 8 8 4 0 9 1 0 9 3 1 9 9 7 2 6 2 5 4 6 8 5 4 6 3 3\n",
      " 2 0 4 5 4 2 2 6 5 3 6 9 3 9 7 4 3 2 2 9 3 4 5 9 3 6 4 6 3 9 3 9 2 8 4 6 7\n",
      " 0 1 5 0 2 8 8 0 6 7 3 2 8 3 2 0 2 9 2 8 1 2 0 4 3 4 1 0 5 0 4 3 5 9 2 6 3\n",
      " 4 6 7 5 8 8 0 3 5 6 4 6 8 2 6 6 5 3 0 9 9 4 3 7 3 6 8 0 4 3 6 1 4 4 8 7 1\n",
      " 8 7 2 0 1 2 3 3 7 3 3 5 7 7 7 9 9 0 4 9 2 9 5 2 8 7 3 2 7 5 1 7 4 8 4 3 8\n",
      " 9] [5 2 2 7 7 0 5 8 7 9 8 2 5 9 8 6 8 3 9 0 3 3 4 4 2 1 8 4 4 3 9 3 6 7 8 7 1\n",
      " 5 6 8 6 9 6 4 1 6 9 2 7 2 5 3 0 4 7 3 3 0 1 6 2 1 4 6 8 2 6 2 2 2 2 9 9 6\n",
      " 9 5 6 7 7 7 0 2 3 9 2 1 7 9 7 3 6 2 1 5 8 8 1 4 2 8 9 0 7 6 7 8 7 3 1 0 4\n",
      " 9 1 8 4 9 1 5 7 3 3 7 9 7 5 7 9 0 5 0 4 5 4 6 7 6 7 1 0 4 8 4 1 1 7 9 6 4\n",
      " 4 9 2 5 3 8 0 1 8 3 3 3 7 0 2 2 3 8 6 9 9 3 6 8 1 2 4 9 4 4 6 7 0 7 0 2 0\n",
      " 9 8 7 5 8 5 6 5 8 1 1 6 6 1 1 2 6 3 1 6 9 3 0 1 7 1 7 1 9 9 3 4 8 8 4 0 6\n",
      " 0 2 3 6 5 0 1 8 0 6 9 2 2 2 5 3 5 5 6 2 0 6 0 7 1 4 0 2 2 4 1 9 7 9 5 5 0\n",
      " 9 5 8 4 7 8 9 3 8 0 3 6 9 8 1 7 8 7 2 0 4 2 2 9 7 4 9 8 9 3 1 0 5 3 5 9 9\n",
      " 4 7 7 1 1 3 1 7 0 8 5 1 8 4 1 4 9 6 3 8 2 0 8 1 1 3 1 7 4 5 6 2 9 7 7 9 3\n",
      " 8 7 4 7 7 5 2 1 5 3 5 7 7 9 0 2 1 0 5 6 2 2 0 9 9 6 5 2 9 2 7 0 8 2 6 5 3\n",
      " 7 2 0 8 6 1 7 9 6 9 0 3 2 4 5 7 4 6 5 7 9 9 4 4 7 2 4 5 3 1 8 5 1 3 4 0 1\n",
      " 0 3 9 9 3 3 2 2 0 4 0 3 8 4 7 0 1 6 1 5 6 8 7 6 8 3 7 0 2 5 9 4 8 4 0 3 5\n",
      " 7 6 6 3 9 3 5 6 5 8 5 4 9 6 0 5 4 9 9 1 4 4 6 8 3 3 2 3 5 1 3 0 6 6 3 4 9\n",
      " 6 9 0 9 0 8 2 4 5 5 6 2 4 5 1 0 5 8 6 1 7 2 2 1 9 4 8 3 7 3 7 2 6 4 2 7 6\n",
      " 1 7 9 3 6 5 5 2 3 8 8 7 7 4 4 9 6 3 6 8 8 2 0 8 8 6 4 7 5 2 4 9 4 3 8 3 2\n",
      " 3 1 2 9 3 9 9 9 5 1 8 3 3 4 5 8 2 7 1 9 1 8 1 8 2 0 8 2 5 6 9 9 8 0 9 5 4\n",
      " 8 7 6 3 9 6 2 7 5 6 7 1 0 1 4 3 3 9 5 4 7 5 4 4 1 9 8 6 7 4 0 5 0 2 4 3 0\n",
      " 9 2 8 9 1 5 9 7 8 6 4 5 2 6 4 0 8 3 8 5 7 4 3 8 7 9 8 9 8 2 5 6 0 3 9 0 9\n",
      " 9 9 8 9 3 4 9 9 0 8 6 7 9 7 3 9 7 8 4 9 9 4 5 1 4 1 2 2 6 1 5 0 3 2 1 9 4\n",
      " 0 9 2 8 4 5 1 2 5 7 3 3 1 7 1 5 3 1 8 3 8 2 3 2 9 5 1 9 7 5 4 5 4 8 9 4 6\n",
      " 7 9 9 6 6 3 8 1 7 6 0 9 5 8 1 9 2 6 9 7 3 0 3 7 1 2 0 7 6 4 8 0 9 2 8 0 8\n",
      " 3 8 7 4 3 6 7 1 0 5 9 8 5 1 2 4 6 2 4 5 0 0 5 3 9 9 1 8 8 5 5 0 8 3 3 0 8\n",
      " 0 3 4 0 0 7 5 9 7 6 8 7 8 8 9 9 9 1 9 9 3 8 9 9 7 2 6 2 0 4 6 8 9 4 6 3 3\n",
      " 0 0 4 5 4 2 2 6 5 3 6 9 3 9 7 4 3 2 2 9 3 4 5 9 3 6 4 6 3 9 3 9 2 8 9 6 7\n",
      " 0 1 0 0 2 8 8 3 6 7 3 2 8 3 1 0 2 0 2 8 1 7 0 4 7 4 1 0 5 0 4 3 5 9 7 6 3\n",
      " 4 6 7 3 5 8 0 3 5 5 4 6 8 4 6 4 3 3 0 4 9 4 3 7 3 6 8 0 4 8 6 1 7 4 8 7 1\n",
      " 8 7 4 7 1 2 3 3 7 3 3 5 7 7 7 9 9 5 4 9 2 0 5 7 8 7 3 4 7 5 1 9 4 8 4 3 8\n",
      " 9]\n"
     ]
    },
    {
     "data": {
      "text/plain": [
       "np.float64(0.788)"
      ]
     },
     "execution_count": 25,
     "metadata": {},
     "output_type": "execute_result"
    }
   ],
   "source": [
    "dev_predictions = make_predictions(X_dev, W1, b1, W2, b2)\n",
    "get_accuracy(dev_predictions, Y_dev)"
   ]
  },
  {
   "cell_type": "markdown",
   "id": "f9a818ed-302a-4e1f-8979-72df8ca2298e",
   "metadata": {},
   "source": [
    "*got about 80 percent on dev set* \\\n",
    "This number (+- 2 percent) show a well balanced model in Bias-Variance trade-off"
   ]
  },
  {
   "cell_type": "markdown",
   "id": "90a38cd2-abc6-4fca-bdbe-a7d6ae460aeb",
   "metadata": {},
   "source": [
    "### Look at some example"
   ]
  },
  {
   "cell_type": "code",
   "execution_count": 26,
   "id": "8b86beae-7ec3-4902-ad45-059a8b104b9f",
   "metadata": {},
   "outputs": [],
   "source": [
    "def test_prediction(index, W1, b1, W2, b2):\n",
    "    current_image = X_train[:, index, None]\n",
    "    prediction = make_predictions(X_train[:, index, None], W1, b1, W2, b2)\n",
    "    label = Y_train[index]\n",
    "    print(\"Prediction: \", prediction)\n",
    "    print(\"label: \", label)\n",
    "\n",
    "    current_image = current_image.reshape((28,28)) * 255\n",
    "    plt.gray()\n",
    "    plt.imshow(current_image, interpolation='nearest')\n",
    "    plt.show"
   ]
  },
  {
   "cell_type": "code",
   "execution_count": 27,
   "id": "8d9b43a1-23de-473d-b088-5e334dcfb7b3",
   "metadata": {},
   "outputs": [
    {
     "name": "stdout",
     "output_type": "stream",
     "text": [
      "Prediction:  [3]\n",
      "label:  3\n"
     ]
    },
    {
     "data": {
      "image/png": "[encoded data removed]",
      "text/plain": [
       "<Figure size 640x480 with 1 Axes>"
      ]
     },
     "metadata": {},
     "output_type": "display_data"
    }
   ],
   "source": [
    "test_prediction(41, W1, b1, W2, b2)"
   ]
  },
  {
   "cell_type": "code",
   "execution_count": null,
   "id": "805b1ef2-3776-433c-aa71-0d590960a975",
   "metadata": {},
   "outputs": [],
   "source": []
  }
 ],
 "metadata": {
  "kernelspec": {
   "display_name": "Python 3 (ipykernel)",
   "language": "python",
   "name": "python3"
  },
  "language_info": {
   "codemirror_mode": {
    "name": "ipython",
    "version": 3
   },
   "file_extension": ".py",
   "mimetype": "text/x-python",
   "name": "python",
   "nbconvert_exporter": "python",
   "pygments_lexer": "ipython3",
   "version": "3.13.3"
  }
 },
 "nbformat": 4,
 "nbformat_minor": 5
}
