{
 "cells": [
  {
   "cell_type": "code",
   "execution_count": 1,
   "id": "af6e39b0-8dbf-45b5-b7cc-36fba9c97030",
   "metadata": {},
   "outputs": [],
   "source": [
    "import numpy as np\n",
    "import pandas as pd\n",
    "from matplotlib import pyplot as plt"
   ]
  },
  {
   "cell_type": "markdown",
   "id": "b7175c18-d58b-4b47-8fef-e654b74f732f",
   "metadata": {},
   "source": [
    "### Load train dataset"
   ]
  },
  {
   "cell_type": "code",
   "execution_count": 2,
   "id": "b36692ef-3525-4938-9bd6-5bd5ea0068be",
   "metadata": {},
   "outputs": [],
   "source": [
    "data = pd.read_csv(\"../data/train.csv\")"
   ]
  },
  {
   "cell_type": "code",
   "execution_count": 3,
   "id": "48452b7e-f031-43b1-bb69-91935108ed9d",
   "metadata": {},
   "outputs": [
    {
     "data": {
      "text/html": [
       "<div>\n",
       "<style scoped>\n",
       "    .dataframe tbody tr th:only-of-type {\n",
       "        vertical-align: middle;\n",
       "    }\n",
       "\n",
       "    .dataframe tbody tr th {\n",
       "        vertical-align: top;\n",
       "    }\n",
       "\n",
       "    .dataframe thead th {\n",
       "        text-align: right;\n",
       "    }\n",
       "</style>\n",
       "<table border=\"1\" class=\"dataframe\">\n",
       "  <thead>\n",
       "    <tr style=\"text-align: right;\">\n",
       "      <th></th>\n",
       "      <th>label</th>\n",
       "      <th>pixel0</th>\n",
       "      <th>pixel1</th>\n",
       "      <th>pixel2</th>\n",
       "      <th>pixel3</th>\n",
       "      <th>pixel4</th>\n",
       "      <th>pixel5</th>\n",
       "      <th>pixel6</th>\n",
       "      <th>pixel7</th>\n",
       "      <th>pixel8</th>\n",
       "      <th>...</th>\n",
       "      <th>pixel774</th>\n",
       "      <th>pixel775</th>\n",
       "      <th>pixel776</th>\n",
       "      <th>pixel777</th>\n",
       "      <th>pixel778</th>\n",
       "      <th>pixel779</th>\n",
       "      <th>pixel780</th>\n",
       "      <th>pixel781</th>\n",
       "      <th>pixel782</th>\n",
       "      <th>pixel783</th>\n",
       "    </tr>\n",
       "  </thead>\n",
       "  <tbody>\n",
       "    <tr>\n",
       "      <th>0</th>\n",
       "      <td>1</td>\n",
       "      <td>0</td>\n",
       "      <td>0</td>\n",
       "      <td>0</td>\n",
       "      <td>0</td>\n",
       "      <td>0</td>\n",
       "      <td>0</td>\n",
       "      <td>0</td>\n",
       "      <td>0</td>\n",
       "      <td>0</td>\n",
       "      <td>...</td>\n",
       "      <td>0</td>\n",
       "      <td>0</td>\n",
       "      <td>0</td>\n",
       "      <td>0</td>\n",
       "      <td>0</td>\n",
       "      <td>0</td>\n",
       "      <td>0</td>\n",
       "      <td>0</td>\n",
       "      <td>0</td>\n",
       "      <td>0</td>\n",
       "    </tr>\n",
       "    <tr>\n",
       "      <th>1</th>\n",
       "      <td>0</td>\n",
       "      <td>0</td>\n",
       "      <td>0</td>\n",
       "      <td>0</td>\n",
       "      <td>0</td>\n",
       "      <td>0</td>\n",
       "      <td>0</td>\n",
       "      <td>0</td>\n",
       "      <td>0</td>\n",
       "      <td>0</td>\n",
       "      <td>...</td>\n",
       "      <td>0</td>\n",
       "      <td>0</td>\n",
       "      <td>0</td>\n",
       "      <td>0</td>\n",
       "      <td>0</td>\n",
       "      <td>0</td>\n",
       "      <td>0</td>\n",
       "      <td>0</td>\n",
       "      <td>0</td>\n",
       "      <td>0</td>\n",
       "    </tr>\n",
       "    <tr>\n",
       "      <th>2</th>\n",
       "      <td>1</td>\n",
       "      <td>0</td>\n",
       "      <td>0</td>\n",
       "      <td>0</td>\n",
       "      <td>0</td>\n",
       "      <td>0</td>\n",
       "      <td>0</td>\n",
       "      <td>0</td>\n",
       "      <td>0</td>\n",
       "      <td>0</td>\n",
       "      <td>...</td>\n",
       "      <td>0</td>\n",
       "      <td>0</td>\n",
       "      <td>0</td>\n",
       "      <td>0</td>\n",
       "      <td>0</td>\n",
       "      <td>0</td>\n",
       "      <td>0</td>\n",
       "      <td>0</td>\n",
       "      <td>0</td>\n",
       "      <td>0</td>\n",
       "    </tr>\n",
       "    <tr>\n",
       "      <th>3</th>\n",
       "      <td>4</td>\n",
       "      <td>0</td>\n",
       "      <td>0</td>\n",
       "      <td>0</td>\n",
       "      <td>0</td>\n",
       "      <td>0</td>\n",
       "      <td>0</td>\n",
       "      <td>0</td>\n",
       "      <td>0</td>\n",
       "      <td>0</td>\n",
       "      <td>...</td>\n",
       "      <td>0</td>\n",
       "      <td>0</td>\n",
       "      <td>0</td>\n",
       "      <td>0</td>\n",
       "      <td>0</td>\n",
       "      <td>0</td>\n",
       "      <td>0</td>\n",
       "      <td>0</td>\n",
       "      <td>0</td>\n",
       "      <td>0</td>\n",
       "    </tr>\n",
       "    <tr>\n",
       "      <th>4</th>\n",
       "      <td>0</td>\n",
       "      <td>0</td>\n",
       "      <td>0</td>\n",
       "      <td>0</td>\n",
       "      <td>0</td>\n",
       "      <td>0</td>\n",
       "      <td>0</td>\n",
       "      <td>0</td>\n",
       "      <td>0</td>\n",
       "      <td>0</td>\n",
       "      <td>...</td>\n",
       "      <td>0</td>\n",
       "      <td>0</td>\n",
       "      <td>0</td>\n",
       "      <td>0</td>\n",
       "      <td>0</td>\n",
       "      <td>0</td>\n",
       "      <td>0</td>\n",
       "      <td>0</td>\n",
       "      <td>0</td>\n",
       "      <td>0</td>\n",
       "    </tr>\n",
       "  </tbody>\n",
       "</table>\n",
       "<p>5 rows × 785 columns</p>\n",
       "</div>"
      ],
      "text/plain": [
       "   label  pixel0  pixel1  pixel2  pixel3  pixel4  pixel5  pixel6  pixel7  \\\n",
       "0      1       0       0       0       0       0       0       0       0   \n",
       "1      0       0       0       0       0       0       0       0       0   \n",
       "2      1       0       0       0       0       0       0       0       0   \n",
       "3      4       0       0       0       0       0       0       0       0   \n",
       "4      0       0       0       0       0       0       0       0       0   \n",
       "\n",
       "   pixel8  ...  pixel774  pixel775  pixel776  pixel777  pixel778  pixel779  \\\n",
       "0       0  ...         0         0         0         0         0         0   \n",
       "1       0  ...         0         0         0         0         0         0   \n",
       "2       0  ...         0         0         0         0         0         0   \n",
       "3       0  ...         0         0         0         0         0         0   \n",
       "4       0  ...         0         0         0         0         0         0   \n",
       "\n",
       "   pixel780  pixel781  pixel782  pixel783  \n",
       "0         0         0         0         0  \n",
       "1         0         0         0         0  \n",
       "2         0         0         0         0  \n",
       "3         0         0         0         0  \n",
       "4         0         0         0         0  \n",
       "\n",
       "[5 rows x 785 columns]"
      ]
     },
     "execution_count": 3,
     "metadata": {},
     "output_type": "execute_result"
    }
   ],
   "source": [
    "data.head()"
   ]
  },
  {
   "cell_type": "code",
   "execution_count": 4,
   "id": "d88ed3fb-70b4-4e6c-af1f-37a817e120ba",
   "metadata": {},
   "outputs": [],
   "source": [
    "data = np.array(data)\n",
    "m, n = data.shape\n",
    "np.random.shuffle(data) # shuffle before splitting into training and dev sets"
   ]
  },
  {
   "cell_type": "code",
   "execution_count": 5,
   "id": "9b902757-42a8-4d13-be61-16346c1574fa",
   "metadata": {},
   "outputs": [
    {
     "data": {
      "text/plain": [
       "array([[2, 0, 0, ..., 0, 0, 0],\n",
       "       [1, 0, 0, ..., 0, 0, 0],\n",
       "       [0, 0, 0, ..., 0, 0, 0],\n",
       "       ...,\n",
       "       [1, 0, 0, ..., 0, 0, 0],\n",
       "       [1, 0, 0, ..., 0, 0, 0],\n",
       "       [9, 0, 0, ..., 0, 0, 0]])"
      ]
     },
     "execution_count": 5,
     "metadata": {},
     "output_type": "execute_result"
    }
   ],
   "source": [
    "data"
   ]
  },
  {
   "cell_type": "markdown",
   "id": "becb1378-5581-4f10-8765-a34f6faaa14b",
   "metadata": {},
   "source": [
    "#### Dev set"
   ]
  },
  {
   "cell_type": "code",
   "execution_count": 6,
   "id": "960ba75a-c128-450a-a615-3d035d431214",
   "metadata": {},
   "outputs": [],
   "source": [
    "data_dev = data[0:1000].T # T for transposing as each column is number features\n",
    "Y_dev = data_dev[0]\n",
    "X_dev = data_dev[1:n]\n",
    "X_dev = X_dev / 255. # scaling X between 0 and 1"
   ]
  },
  {
   "cell_type": "code",
   "execution_count": 7,
   "id": "01378902-e472-4e21-b2a4-bca07dfc1634",
   "metadata": {},
   "outputs": [
    {
     "name": "stdout",
     "output_type": "stream",
     "text": [
      "(784, 1000)\n"
     ]
    },
    {
     "data": {
      "text/plain": [
       "array([[0., 0., 0., ..., 0., 0., 0.],\n",
       "       [0., 0., 0., ..., 0., 0., 0.],\n",
       "       [0., 0., 0., ..., 0., 0., 0.],\n",
       "       ...,\n",
       "       [0., 0., 0., ..., 0., 0., 0.],\n",
       "       [0., 0., 0., ..., 0., 0., 0.],\n",
       "       [0., 0., 0., ..., 0., 0., 0.]])"
      ]
     },
     "execution_count": 7,
     "metadata": {},
     "output_type": "execute_result"
    }
   ],
   "source": [
    "print(X_dev.shape)\n",
    "X_dev[:10]"
   ]
  },
  {
   "cell_type": "code",
   "execution_count": 8,
   "id": "fd913606-7b5b-4a78-85e1-9f5f19f31c25",
   "metadata": {},
   "outputs": [
    {
     "name": "stdout",
     "output_type": "stream",
     "text": [
      "(1000,)\n"
     ]
    },
    {
     "data": {
      "text/plain": [
       "array([2, 1, 0, 3, 3, 6, 1, 2, 7, 3])"
      ]
     },
     "execution_count": 8,
     "metadata": {},
     "output_type": "execute_result"
    }
   ],
   "source": [
    "print(Y_dev.shape)\n",
    "Y_dev[:10]"
   ]
  },
  {
   "cell_type": "markdown",
   "id": "bc389356-cd23-4878-ae68-b96c077540e2",
   "metadata": {},
   "source": [
    "#### Training set"
   ]
  },
  {
   "cell_type": "code",
   "execution_count": 9,
   "id": "b0bd60ca-bf6f-4742-8080-b26061207b72",
   "metadata": {},
   "outputs": [],
   "source": [
    "data_train = data[1000:m].T\n",
    "Y_train = data_train[0]\n",
    "X_train = data_train[1:n]\n",
    "X_train = X_train / 255.\n",
    "_, m_train = X_train.shape"
   ]
  },
  {
   "cell_type": "code",
   "execution_count": 10,
   "id": "54c408de-0b3a-4a09-bb5a-b1303ccddd81",
   "metadata": {},
   "outputs": [
    {
     "name": "stdout",
     "output_type": "stream",
     "text": [
      "(784, 41000)\n"
     ]
    },
    {
     "data": {
      "text/plain": [
       "array([[0., 0., 0., ..., 0., 0., 0.],\n",
       "       [0., 0., 0., ..., 0., 0., 0.],\n",
       "       [0., 0., 0., ..., 0., 0., 0.],\n",
       "       ...,\n",
       "       [0., 0., 0., ..., 0., 0., 0.],\n",
       "       [0., 0., 0., ..., 0., 0., 0.],\n",
       "       [0., 0., 0., ..., 0., 0., 0.]])"
      ]
     },
     "execution_count": 10,
     "metadata": {},
     "output_type": "execute_result"
    }
   ],
   "source": [
    "print(X_train.shape)\n",
    "X_train[:10]"
   ]
  },
  {
   "cell_type": "code",
   "execution_count": 11,
   "id": "29427db3-f948-4388-a040-75c0840d0d24",
   "metadata": {},
   "outputs": [
    {
     "name": "stdout",
     "output_type": "stream",
     "text": [
      "(41000,)\n"
     ]
    },
    {
     "data": {
      "text/plain": [
       "array([5, 8, 2, 1, 8, 2, 6, 8, 2, 6])"
      ]
     },
     "execution_count": 11,
     "metadata": {},
     "output_type": "execute_result"
    }
   ],
   "source": [
    "print(Y_train.shape)\n",
    "Y_train[:10]"
   ]
  },
  {
   "cell_type": "markdown",
   "id": "13b98704-988e-4fdd-bced-c59ea4527a73",
   "metadata": {},
   "source": [
    "### Define our Neural Network"
   ]
  },
  {
   "cell_type": "markdown",
   "id": "fe3c814a-e5ed-49eb-aacc-9b0c57970e61",
   "metadata": {},
   "source": [
    "Our NN will have a simple two-layer architecture. Input layer a<sup>[0]</sup> will have 784 units corresponding to the 784 pixels in each 28x28 input image. A hidden layer  𝑎<sup>[1]</sup>\n",
    "  will have 10 units with ReLU activation, and finally our output layer  𝑎<sup>[2]</sup>\n",
    "  will have 10 units corresponding to the ten digit classes with softmax activation."
   ]
  },
  {
   "cell_type": "markdown",
   "id": "fa26fb9d-e58d-4761-901d-ef756b6894d7",
   "metadata": {},
   "source": [
    "**Forward propagation**\n",
    "\n",
    "$Z^{[1]} = W^{[1]}X + b^{[1]}$\n",
    "\n",
    "$A^{[1]} = g_{ReLU}(Z^{[1]})$\n",
    "\n",
    "$Z^{[2]} = W^{[2]}A^{[1]} + b^{[2]}$\n",
    "\n",
    "$A^{[2]} = g_{softmax}(Z^{[2]})$\n",
    "\n",
    "**Backward propagation**\n",
    "\n",
    "$dZ^{[2]} = A^{[2]} - Y$\n",
    "\n",
    "$dW^{[2]} = \\frac{1}{m} dZ^{[2]} A^{[1]T}$\n",
    "\n",
    "$dB^{[2]} = \\frac{1}{m} \\Sigma dZ^{[2]}$\n",
    "\n",
    "$dZ^{[1]} = W^{[2]T} dZ^{[2]} \\cdot* g^{[1]'}(z^{[1]})$\n",
    "\n",
    "$dW^{[1]} = \\frac{1}{m} dZ^{[1]} A^{[0]T}$\n",
    "\n",
    "$dB^{[1]} = \\frac{1}{m} \\Sigma dZ^{[1]}$\n",
    "\n",
    "**Parameter updates**\n",
    "\n",
    "$W^{[2]} := W^{[2]} - \\alpha dW^{[2]}$\n",
    "\n",
    "$b^{[2]} := b^{[2]} - \\alpha db^{[2]}$\n",
    "\n",
    "$W^{[1]} := W^{[1]} - \\alpha dW^{[1]}$\n",
    "\n",
    "$b^{[1]} := b^{[1]} - \\alpha db^{[1]}$"
   ]
  },
  {
   "cell_type": "markdown",
   "id": "a9710b28-14e9-4ef4-869e-e2764aa95a9b",
   "metadata": {},
   "source": [
    "### Vars and shapes\n",
    "\n",
    "**Forward prop**\n",
    "\n",
    "- $A^{[0]} = X$: 784 x m\n",
    "\n",
    "- $Z^{[1]} \\sim A^{[1]}$: 10 x m\n",
    "\n",
    "- $W^{[1]}$: 10 x 784 (as $W^{[1]}A^{[0]} \\sim Z^{[1]}$)\n",
    "\n",
    "- $B^{[1]}$: 10 x 1\n",
    "\n",
    "- $Z^{[2]} \\sim A^{[2]}$: 10 x m\n",
    "\n",
    "- $W^{[2]}$: 10 x 10 (as $W^{[2]}A^{[1]} \\sim Z^{[2]}$)\n",
    "\n",
    "- $B^{[2]}$: 10 x 1\n",
    "\n",
    "**Backprop**\n",
    "\n",
    "- $dZ^{[2]}$: 10 x m ($A^{[2]}$)\n",
    "\n",
    "- $dW^{[2]}$: 10 x 10\n",
    "\n",
    "- $dB^{[2]}$: 10 x 1\n",
    "\n",
    "- $dZ^{[1]}$: 10 x m ($A^{[1]}$)\n",
    "\n",
    "- $dW^{[1]}$: 10 x 784\n",
    "\n",
    "- $dB^{[1]}$: 10 x 1"
   ]
  },
  {
   "cell_type": "markdown",
   "id": "221d7ba1-4965-4a18-b702-aafe183437ed",
   "metadata": {},
   "source": [
    "#### Forward Prop"
   ]
  },
  {
   "cell_type": "code",
   "execution_count": 12,
   "id": "41b546db-083b-41c2-910f-c8bfe9c1d774",
   "metadata": {},
   "outputs": [],
   "source": [
    "def init_params():\n",
    "    W1 = np.random.rand(10, 784) - 0.5\n",
    "    b1 = np.random.rand(10, 1) - 0.5\n",
    "    W2 = np.random.rand(10, 10) - 0.5\n",
    "    b2 = np.random.rand(10, 1) - 0.5\n",
    "    return W1, b1, W2, b2"
   ]
  },
  {
   "cell_type": "code",
   "execution_count": 13,
   "id": "2d6ba4eb-831d-46f7-ab1a-b5f39b8e8fe0",
   "metadata": {},
   "outputs": [],
   "source": [
    "def ReLU(Z):\n",
    "    return np.maximum(Z, 0)"
   ]
  },
  {
   "cell_type": "code",
   "execution_count": 14,
   "id": "64eb36de-0644-4eff-88c4-2e0735b85eaf",
   "metadata": {},
   "outputs": [],
   "source": [
    "def softmax(Z):\n",
    "    A = np.exp(Z) / sum(np.exp(Z))\n",
    "    return A"
   ]
  },
  {
   "cell_type": "code",
   "execution_count": 15,
   "id": "eef73f57-3895-4ed8-9f3d-1e12b5aaee05",
   "metadata": {},
   "outputs": [],
   "source": [
    "def forward_prop(W1, b1, W2, b2, X):\n",
    "    Z1 = W1.dot(X) + b1\n",
    "    A1 = ReLU(Z1)\n",
    "    Z2 = W2.dot(A1) + b2\n",
    "    A2 = softmax(Z2)\n",
    "    return Z1, A1, Z2, A2"
   ]
  },
  {
   "cell_type": "markdown",
   "id": "b698a542-4fec-4b5d-b901-4ac06d5be9d0",
   "metadata": {},
   "source": [
    "#### Backward Prop"
   ]
  },
  {
   "cell_type": "code",
   "execution_count": 16,
   "id": "bf4ad2bb-62bd-442e-ad7d-e43bfe433301",
   "metadata": {},
   "outputs": [],
   "source": [
    "def one_hot(Y):\n",
    "    one_hot_Y = np.zeros((Y.size, Y.max()+1 ))\n",
    "    one_hot_Y[np.arange(Y.size), Y] = 1  # places a 1 in the correct column (representing the class label) for each row (representing a data point).\n",
    "    one_hot_Y = one_hot_Y.T  # now each row of one_hot_Y corresponds to a class, and each column corresponds to a data point\n",
    "    return one_hot_Y"
   ]
  },
  {
   "cell_type": "code",
   "execution_count": 17,
   "id": "c18885e4-6442-4b0d-a928-1964131500b1",
   "metadata": {},
   "outputs": [],
   "source": [
    "def ReLU_deriv(Z):\n",
    "    return Z > 0  # This will output 1 if Z bigger that zero (relu in positive side of x axis) and 0 if not (remember relu function shape for better intuition)"
   ]
  },
  {
   "cell_type": "code",
   "execution_count": 18,
   "id": "fbc74e2d-6f4e-4664-8375-476c6af11744",
   "metadata": {},
   "outputs": [],
   "source": [
    "def backward_prop(Z1, A1, Z2, A2, W1, W2, X, Y):\n",
    "    one_hot_Y = one_hot(Y)\n",
    "    dZ2 = A2 - one_hot_Y\n",
    "    dW2 = 1 / m * dZ2.dot(A1.T)\n",
    "    db2 = 1 / m * np.sum(dZ2)\n",
    "    dZ1 = W2.T.dot(dZ2 * ReLU_deriv(Z1))\n",
    "    dW1 = 1 / m * dZ1.dot(X.T)\n",
    "    db1 = 1 / m * np.sum(dZ1)\n",
    "    return dW1, db1, dW2, db2"
   ]
  },
  {
   "cell_type": "code",
   "execution_count": 19,
   "id": "1d4d5fcd-c7c1-4332-b122-12dd3fd391c1",
   "metadata": {},
   "outputs": [],
   "source": [
    "def update_params(W1, b1, W2, b2, dW1, db1, dW2, db2, alpha):\n",
    "    # our tiny steps down the hill\n",
    "    W1 = W1 - alpha * dW1\n",
    "    b1 = b1 - alpha * db1\n",
    "    W2 = W2 - alpha * dW2\n",
    "    b2 = b2 - alpha * db2\n",
    "    return W1, b1, W2, b2"
   ]
  },
  {
   "cell_type": "code",
   "execution_count": 20,
   "id": "8caaa246-093e-492f-b195-426518ec0822",
   "metadata": {},
   "outputs": [],
   "source": [
    "def get_predictions(A2):\n",
    "    # return max value afte our softmax\n",
    "    return np.argmax(A2, 0)"
   ]
  },
  {
   "cell_type": "code",
   "execution_count": 21,
   "id": "91193604-de72-43ef-956f-2c8e654d660e",
   "metadata": {},
   "outputs": [],
   "source": [
    "def get_accuracy(predictions, Y):\n",
    "    # For printing accuracy of model through iterations\n",
    "    print(predictions, Y) #pring model output Ys and Y_hat (real Ys)\n",
    "    return np.sum(predictions == Y) / Y.size"
   ]
  },
  {
   "cell_type": "code",
   "execution_count": 22,
   "id": "724322f3-3de3-4fe2-bb51-d17cec34a629",
   "metadata": {},
   "outputs": [],
   "source": [
    "def gradient_descent(X, Y, iterations, alpha):\n",
    "    # Walking Down The Hill\n",
    "    W1, b1, W2, b2 = init_params()\n",
    "    for i in range(iterations):\n",
    "        Z1, A1, Z2, A2 = forward_prop(W1, b1, W2, b2, X)\n",
    "        dW1, db1, dW2, db2 = backward_prop(Z1, A1, Z2, A2, W1, W2, X, Y)\n",
    "        W1, b1, W2, b2 = update_params(W1, b1, W2, b2, dW1, db1, dW2, db2, alpha)\n",
    "        if (i % 10 == 0): # printing model results every 10th iteration\n",
    "            print(\"Iteration: \", i)\n",
    "            print(\"Accuracy: \", get_accuracy(get_predictions(A2), Y), \"\\n\")\n",
    "    return W1, b1, W2, b2"
   ]
  },
  {
   "cell_type": "markdown",
   "id": "0e867b96-a563-448c-9713-b752fd0cc2a5",
   "metadata": {},
   "source": [
    "#### Let's Train"
   ]
  },
  {
   "cell_type": "code",
   "execution_count": null,
   "id": "4a1cdc9a-8883-45f3-962c-acf802d3f3df",
   "metadata": {},
   "outputs": [
    {
     "name": "stdout",
     "output_type": "stream",
     "text": [
      "Iteration:  0\n",
      "[6 4 4 ... 8 8 6] [5 8 2 ... 1 1 9]\n",
      "Accuracy:  0.07802439024390244 \n",
      "\n",
      "Iteration:  10\n",
      "[0 3 1 ... 8 8 1] [5 8 2 ... 1 1 9]\n",
      "Accuracy:  0.21841463414634146 \n",
      "\n",
      "Iteration:  20\n",
      "[0 3 1 ... 1 8 1] [5 8 2 ... 1 1 9]\n",
      "Accuracy:  0.30878048780487805 \n",
      "\n",
      "Iteration:  30\n",
      "[0 3 1 ... 1 1 1] [5 8 2 ... 1 1 9]\n",
      "Accuracy:  0.37085365853658536 \n",
      "\n",
      "Iteration:  40\n",
      "[0 3 1 ... 1 1 1] [5 8 2 ... 1 1 9]\n",
      "Accuracy:  0.4198780487804878 \n",
      "\n",
      "Iteration:  50\n",
      "[0 3 1 ... 1 1 1] [5 8 2 ... 1 1 9]\n",
      "Accuracy:  0.46082926829268295 \n",
      "\n",
      "Iteration:  60\n",
      "[0 3 1 ... 1 1 8] [5 8 2 ... 1 1 9]\n",
      "Accuracy:  0.5032926829268293 \n",
      "\n",
      "Iteration:  70\n",
      "[0 3 1 ... 1 1 8] [5 8 2 ... 1 1 9]\n",
      "Accuracy:  0.5431463414634147 \n",
      "\n",
      "Iteration:  80\n",
      "[8 8 1 ... 1 1 8] [5 8 2 ... 1 1 9]\n",
      "Accuracy:  0.5778780487804878 \n",
      "\n",
      "Iteration:  90\n",
      "[8 8 1 ... 1 1 8] [5 8 2 ... 1 1 9]\n",
      "Accuracy:  0.6055609756097561 \n",
      "\n",
      "Iteration:  100\n",
      "[8 8 1 ... 1 1 8] [5 8 2 ... 1 1 9]\n",
      "Accuracy:  0.6281951219512195 \n",
      "\n",
      "Iteration:  110\n",
      "[8 8 1 ... 1 1 8] [5 8 2 ... 1 1 9]\n",
      "Accuracy:  0.6478048780487805 \n",
      "\n",
      "Iteration:  120\n",
      "[8 8 1 ... 1 1 9] [5 8 2 ... 1 1 9]\n",
      "Accuracy:  0.6652926829268293 \n",
      "\n",
      "Iteration:  130\n",
      "[8 8 1 ... 1 1 9] [5 8 2 ... 1 1 9]\n",
      "Accuracy:  0.6794146341463415 \n",
      "\n",
      "Iteration:  140\n",
      "[8 8 1 ... 1 1 9] [5 8 2 ... 1 1 9]\n",
      "Accuracy:  0.6917560975609756 \n",
      "\n",
      "Iteration:  150\n",
      "[8 8 1 ... 1 1 9] [5 8 2 ... 1 1 9]\n",
      "Accuracy:  0.7041951219512195 \n",
      "\n",
      "Iteration:  160\n",
      "[8 8 1 ... 1 1 9] [5 8 2 ... 1 1 9]\n",
      "Accuracy:  0.7149268292682927 \n",
      "\n",
      "Iteration:  170\n",
      "[8 8 1 ... 1 1 9] [5 8 2 ... 1 1 9]\n",
      "Accuracy:  0.7249024390243902 \n",
      "\n",
      "Iteration:  180\n",
      "[8 8 1 ... 1 1 9] [5 8 2 ... 1 1 9]\n",
      "Accuracy:  0.7337073170731707 \n",
      "\n",
      "Iteration:  190\n",
      "[8 8 1 ... 1 1 9] [5 8 2 ... 1 1 9]\n",
      "Accuracy:  0.741390243902439 \n",
      "\n",
      "Iteration:  200\n",
      "[8 8 1 ... 1 1 9] [5 8 2 ... 1 1 9]\n",
      "Accuracy:  0.7472926829268293 \n",
      "\n",
      "Iteration:  210\n",
      "[8 8 1 ... 1 1 9] [5 8 2 ... 1 1 9]\n",
      "Accuracy:  0.7533658536585366 \n",
      "\n",
      "Iteration:  220\n",
      "[8 8 1 ... 1 1 9] [5 8 2 ... 1 1 9]\n",
      "Accuracy:  0.7591219512195122 \n",
      "\n",
      "Iteration:  230\n",
      "[8 8 1 ... 1 1 9] [5 8 2 ... 1 1 9]\n",
      "Accuracy:  0.7638048780487805 \n",
      "\n",
      "Iteration:  240\n",
      "[8 8 1 ... 1 1 9] [5 8 2 ... 1 1 9]\n",
      "Accuracy:  0.7676829268292683 \n",
      "\n",
      "Iteration:  250\n",
      "[8 8 1 ... 1 1 9] [5 8 2 ... 1 1 9]\n",
      "Accuracy:  0.7720243902439025 \n",
      "\n",
      "Iteration:  260\n",
      "[8 8 1 ... 1 1 9] [5 8 2 ... 1 1 9]\n",
      "Accuracy:  0.7761463414634147 \n",
      "\n",
      "Iteration:  270\n",
      "[8 8 1 ... 1 1 9] [5 8 2 ... 1 1 9]\n",
      "Accuracy:  0.7801463414634147 \n",
      "\n",
      "Iteration:  280\n",
      "[8 8 1 ... 1 1 9] [5 8 2 ... 1 1 9]\n",
      "Accuracy:  0.7836341463414634 \n",
      "\n",
      "Iteration:  290\n",
      "[8 8 1 ... 1 1 9] [5 8 2 ... 1 1 9]\n",
      "Accuracy:  0.7865121951219513 \n",
      "\n",
      "Iteration:  300\n",
      "[8 8 1 ... 1 1 9] [5 8 2 ... 1 1 9]\n",
      "Accuracy:  0.7893902439024391 \n",
      "\n",
      "Iteration:  310\n",
      "[8 8 1 ... 1 1 9] [5 8 2 ... 1 1 9]\n",
      "Accuracy:  0.791609756097561 \n",
      "\n",
      "Iteration:  320\n",
      "[8 8 1 ... 1 1 9] [5 8 2 ... 1 1 9]\n",
      "Accuracy:  0.7937073170731708 \n",
      "\n",
      "Iteration:  330\n",
      "[8 8 1 ... 1 1 9] [5 8 2 ... 1 1 9]\n",
      "Accuracy:  0.795829268292683 \n",
      "\n",
      "Iteration:  340\n",
      "[8 8 1 ... 1 1 9] [5 8 2 ... 1 1 9]\n",
      "Accuracy:  0.797829268292683 \n",
      "\n",
      "Iteration:  350\n",
      "[8 8 1 ... 1 1 9] [5 8 2 ... 1 1 9]\n",
      "Accuracy:  0.7995365853658537 \n",
      "\n",
      "Iteration:  360\n",
      "[8 8 1 ... 1 1 9] [5 8 2 ... 1 1 9]\n",
      "Accuracy:  0.8009756097560976 \n",
      "\n",
      "Iteration:  370\n",
      "[8 8 1 ... 1 1 9] [5 8 2 ... 1 1 9]\n",
      "Accuracy:  0.8021707317073171 \n",
      "\n",
      "Iteration:  380\n",
      "[8 8 1 ... 1 1 9] [5 8 2 ... 1 1 9]\n",
      "Accuracy:  0.8036829268292683 \n",
      "\n",
      "Iteration:  390\n",
      "[8 8 1 ... 1 1 9] [5 8 2 ... 1 1 9]\n",
      "Accuracy:  0.8046341463414635 \n",
      "\n",
      "Iteration:  400\n",
      "[8 8 1 ... 1 1 9] [5 8 2 ... 1 1 9]\n",
      "Accuracy:  0.8053414634146342 \n",
      "\n"
     ]
    }
   ],
   "source": [
    "W1, b1, W2, b2 = gradient_descent(X_train, Y_train, 1000, 0.10)"
   ]
  },
  {
   "cell_type": "code",
   "execution_count": null,
   "id": "853acd59-2ce7-4bfa-9f71-eba3ad97d676",
   "metadata": {},
   "outputs": [],
   "source": []
  }
 ],
 "metadata": {
  "kernelspec": {
   "display_name": "Python 3 (ipykernel)",
   "language": "python",
   "name": "python3"
  },
  "language_info": {
   "codemirror_mode": {
    "name": "ipython",
    "version": 3
   },
   "file_extension": ".py",
   "mimetype": "text/x-python",
   "name": "python",
   "nbconvert_exporter": "python",
   "pygments_lexer": "ipython3",
   "version": "3.12.7"
  }
 },
 "nbformat": 4,
 "nbformat_minor": 5
}
